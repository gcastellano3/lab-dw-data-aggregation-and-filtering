{
  "cells": [
    {
      "cell_type": "markdown",
      "id": "31969215-2a90-4d8b-ac36-646a7ae13744",
      "metadata": {
        "id": "31969215-2a90-4d8b-ac36-646a7ae13744"
      },
      "source": [
        "# Lab | Data Aggregation and Filtering"
      ]
    },
    {
      "cell_type": "markdown",
      "id": "a8f08a52-bec0-439b-99cc-11d3809d8b5d",
      "metadata": {
        "id": "a8f08a52-bec0-439b-99cc-11d3809d8b5d"
      },
      "source": [
        "In this challenge, we will continue to work with customer data from an insurance company. We will use the dataset called marketing_customer_analysis.csv, which can be found at the following link:\n",
        "\n",
        "https://raw.githubusercontent.com/data-bootcamp-v4/data/main/marketing_customer_analysis.csv\n",
        "\n",
        "This dataset contains information such as customer demographics, policy details, vehicle information, and the customer's response to the last marketing campaign. Our goal is to explore and analyze this data by first performing data cleaning, formatting, and structuring."
      ]
    },
    {
      "cell_type": "code",
      "execution_count": 1,
      "id": "9f86eabe",
      "metadata": {},
      "outputs": [],
      "source": [
        "# Importing pandas an numpy libraries\n",
        "import pandas as pd\n",
        "import numpy as np\n",
        "\n",
        "# Setting variable to file route\n",
        "url = 'https://raw.githubusercontent.com/data-bootcamp-v4/data/main/marketing_customer_analysis.csv'\n",
        "\n",
        "# Reading the csv file from the url variable\n",
        "df = pd.read_csv(url)"
      ]
    },
    {
      "cell_type": "code",
      "execution_count": 2,
      "id": "8cda9f2d",
      "metadata": {},
      "outputs": [],
      "source": [
        "# Parameters to autoreload edited modules\n",
        "%load_ext autoreload\n",
        "%autoreload 2\n",
        "%reload_ext autoreload\n",
        "\n",
        "# Importing data_cleaning module to clean the dataframe\n",
        "import data_cleaning as dc\n",
        "\n",
        "# Applying data cleaning functions from data_cleaning module to the dataframe\n",
        "df = dc.rename_columns(df)"
      ]
    },
    {
      "cell_type": "code",
      "execution_count": 3,
      "id": "216b5c25",
      "metadata": {},
      "outputs": [
        {
          "data": {
            "application/vnd.microsoft.datawrangler.viewer.v0+json": {
              "columns": [
                {
                  "name": "index",
                  "rawType": "int64",
                  "type": "integer"
                },
                {
                  "name": "unnamed:_0",
                  "rawType": "int64",
                  "type": "integer"
                },
                {
                  "name": "customer",
                  "rawType": "object",
                  "type": "string"
                },
                {
                  "name": "state",
                  "rawType": "object",
                  "type": "string"
                },
                {
                  "name": "customer_lifetime_value",
                  "rawType": "float64",
                  "type": "float"
                },
                {
                  "name": "response",
                  "rawType": "object",
                  "type": "string"
                },
                {
                  "name": "coverage",
                  "rawType": "object",
                  "type": "string"
                },
                {
                  "name": "education",
                  "rawType": "object",
                  "type": "string"
                },
                {
                  "name": "effective_to_date",
                  "rawType": "object",
                  "type": "string"
                },
                {
                  "name": "employmentstatus",
                  "rawType": "object",
                  "type": "string"
                },
                {
                  "name": "gender",
                  "rawType": "object",
                  "type": "string"
                },
                {
                  "name": "income",
                  "rawType": "int64",
                  "type": "integer"
                },
                {
                  "name": "location_code",
                  "rawType": "object",
                  "type": "string"
                },
                {
                  "name": "marital_status",
                  "rawType": "object",
                  "type": "string"
                },
                {
                  "name": "monthly_premium_auto",
                  "rawType": "int64",
                  "type": "integer"
                },
                {
                  "name": "months_since_last_claim",
                  "rawType": "float64",
                  "type": "float"
                },
                {
                  "name": "months_since_policy_inception",
                  "rawType": "int64",
                  "type": "integer"
                },
                {
                  "name": "number_of_open_complaints",
                  "rawType": "float64",
                  "type": "float"
                },
                {
                  "name": "number_of_policies",
                  "rawType": "int64",
                  "type": "integer"
                },
                {
                  "name": "policy_type",
                  "rawType": "object",
                  "type": "string"
                },
                {
                  "name": "policy",
                  "rawType": "object",
                  "type": "string"
                },
                {
                  "name": "renew_offer_type",
                  "rawType": "object",
                  "type": "string"
                },
                {
                  "name": "sales_channel",
                  "rawType": "object",
                  "type": "string"
                },
                {
                  "name": "total_claim_amount",
                  "rawType": "float64",
                  "type": "float"
                },
                {
                  "name": "vehicle_class",
                  "rawType": "object",
                  "type": "string"
                },
                {
                  "name": "vehicle_size",
                  "rawType": "object",
                  "type": "string"
                },
                {
                  "name": "vehicle_type",
                  "rawType": "object",
                  "type": "unknown"
                }
              ],
              "ref": "6f081270-022c-4358-86e7-4870350d0492",
              "rows": [
                [
                  "0",
                  "0",
                  "DK49336",
                  "Arizona",
                  "4809.21696",
                  "No",
                  "Basic",
                  "College",
                  "2/18/11",
                  "Employed",
                  "M",
                  "48029",
                  "Suburban",
                  "Married",
                  "61",
                  "7.0",
                  "52",
                  "0.0",
                  "9",
                  "Corporate Auto",
                  "Corporate L3",
                  "Offer3",
                  "Agent",
                  "292.8",
                  "Four-Door Car",
                  "Medsize",
                  null
                ],
                [
                  "1",
                  "1",
                  "KX64629",
                  "California",
                  "2228.525238",
                  "No",
                  "Basic",
                  "College",
                  "1/18/11",
                  "Unemployed",
                  "F",
                  "0",
                  "Suburban",
                  "Single",
                  "64",
                  "3.0",
                  "26",
                  "0.0",
                  "1",
                  "Personal Auto",
                  "Personal L3",
                  "Offer4",
                  "Call Center",
                  "744.924331",
                  "Four-Door Car",
                  "Medsize",
                  null
                ],
                [
                  "2",
                  "2",
                  "LZ68649",
                  "Washington",
                  "14947.9173",
                  "No",
                  "Basic",
                  "Bachelor",
                  "2/10/11",
                  "Employed",
                  "M",
                  "22139",
                  "Suburban",
                  "Single",
                  "100",
                  "34.0",
                  "31",
                  "0.0",
                  "2",
                  "Personal Auto",
                  "Personal L3",
                  "Offer3",
                  "Call Center",
                  "480.0",
                  "SUV",
                  "Medsize",
                  "A"
                ],
                [
                  "3",
                  "3",
                  "XL78013",
                  "Oregon",
                  "22332.43946",
                  "Yes",
                  "Extended",
                  "College",
                  "1/11/11",
                  "Employed",
                  "M",
                  "49078",
                  "Suburban",
                  "Single",
                  "97",
                  "10.0",
                  "3",
                  "0.0",
                  "2",
                  "Corporate Auto",
                  "Corporate L3",
                  "Offer2",
                  "Branch",
                  "484.013411",
                  "Four-Door Car",
                  "Medsize",
                  "A"
                ],
                [
                  "4",
                  "4",
                  "QA50777",
                  "Oregon",
                  "9025.067525",
                  "No",
                  "Premium",
                  "Bachelor",
                  "1/17/11",
                  "Medical Leave",
                  "F",
                  "23675",
                  "Suburban",
                  "Married",
                  "117",
                  null,
                  "31",
                  null,
                  "7",
                  "Personal Auto",
                  "Personal L2",
                  "Offer1",
                  "Branch",
                  "707.925645",
                  "Four-Door Car",
                  "Medsize",
                  null
                ]
              ],
              "shape": {
                "columns": 26,
                "rows": 5
              }
            },
            "text/html": [
              "<div>\n",
              "<style scoped>\n",
              "    .dataframe tbody tr th:only-of-type {\n",
              "        vertical-align: middle;\n",
              "    }\n",
              "\n",
              "    .dataframe tbody tr th {\n",
              "        vertical-align: top;\n",
              "    }\n",
              "\n",
              "    .dataframe thead th {\n",
              "        text-align: right;\n",
              "    }\n",
              "</style>\n",
              "<table border=\"1\" class=\"dataframe\">\n",
              "  <thead>\n",
              "    <tr style=\"text-align: right;\">\n",
              "      <th></th>\n",
              "      <th>unnamed:_0</th>\n",
              "      <th>customer</th>\n",
              "      <th>state</th>\n",
              "      <th>customer_lifetime_value</th>\n",
              "      <th>response</th>\n",
              "      <th>coverage</th>\n",
              "      <th>education</th>\n",
              "      <th>effective_to_date</th>\n",
              "      <th>employmentstatus</th>\n",
              "      <th>gender</th>\n",
              "      <th>...</th>\n",
              "      <th>number_of_open_complaints</th>\n",
              "      <th>number_of_policies</th>\n",
              "      <th>policy_type</th>\n",
              "      <th>policy</th>\n",
              "      <th>renew_offer_type</th>\n",
              "      <th>sales_channel</th>\n",
              "      <th>total_claim_amount</th>\n",
              "      <th>vehicle_class</th>\n",
              "      <th>vehicle_size</th>\n",
              "      <th>vehicle_type</th>\n",
              "    </tr>\n",
              "  </thead>\n",
              "  <tbody>\n",
              "    <tr>\n",
              "      <th>0</th>\n",
              "      <td>0</td>\n",
              "      <td>DK49336</td>\n",
              "      <td>Arizona</td>\n",
              "      <td>4809.216960</td>\n",
              "      <td>No</td>\n",
              "      <td>Basic</td>\n",
              "      <td>College</td>\n",
              "      <td>2/18/11</td>\n",
              "      <td>Employed</td>\n",
              "      <td>M</td>\n",
              "      <td>...</td>\n",
              "      <td>0.0</td>\n",
              "      <td>9</td>\n",
              "      <td>Corporate Auto</td>\n",
              "      <td>Corporate L3</td>\n",
              "      <td>Offer3</td>\n",
              "      <td>Agent</td>\n",
              "      <td>292.800000</td>\n",
              "      <td>Four-Door Car</td>\n",
              "      <td>Medsize</td>\n",
              "      <td>NaN</td>\n",
              "    </tr>\n",
              "    <tr>\n",
              "      <th>1</th>\n",
              "      <td>1</td>\n",
              "      <td>KX64629</td>\n",
              "      <td>California</td>\n",
              "      <td>2228.525238</td>\n",
              "      <td>No</td>\n",
              "      <td>Basic</td>\n",
              "      <td>College</td>\n",
              "      <td>1/18/11</td>\n",
              "      <td>Unemployed</td>\n",
              "      <td>F</td>\n",
              "      <td>...</td>\n",
              "      <td>0.0</td>\n",
              "      <td>1</td>\n",
              "      <td>Personal Auto</td>\n",
              "      <td>Personal L3</td>\n",
              "      <td>Offer4</td>\n",
              "      <td>Call Center</td>\n",
              "      <td>744.924331</td>\n",
              "      <td>Four-Door Car</td>\n",
              "      <td>Medsize</td>\n",
              "      <td>NaN</td>\n",
              "    </tr>\n",
              "    <tr>\n",
              "      <th>2</th>\n",
              "      <td>2</td>\n",
              "      <td>LZ68649</td>\n",
              "      <td>Washington</td>\n",
              "      <td>14947.917300</td>\n",
              "      <td>No</td>\n",
              "      <td>Basic</td>\n",
              "      <td>Bachelor</td>\n",
              "      <td>2/10/11</td>\n",
              "      <td>Employed</td>\n",
              "      <td>M</td>\n",
              "      <td>...</td>\n",
              "      <td>0.0</td>\n",
              "      <td>2</td>\n",
              "      <td>Personal Auto</td>\n",
              "      <td>Personal L3</td>\n",
              "      <td>Offer3</td>\n",
              "      <td>Call Center</td>\n",
              "      <td>480.000000</td>\n",
              "      <td>SUV</td>\n",
              "      <td>Medsize</td>\n",
              "      <td>A</td>\n",
              "    </tr>\n",
              "    <tr>\n",
              "      <th>3</th>\n",
              "      <td>3</td>\n",
              "      <td>XL78013</td>\n",
              "      <td>Oregon</td>\n",
              "      <td>22332.439460</td>\n",
              "      <td>Yes</td>\n",
              "      <td>Extended</td>\n",
              "      <td>College</td>\n",
              "      <td>1/11/11</td>\n",
              "      <td>Employed</td>\n",
              "      <td>M</td>\n",
              "      <td>...</td>\n",
              "      <td>0.0</td>\n",
              "      <td>2</td>\n",
              "      <td>Corporate Auto</td>\n",
              "      <td>Corporate L3</td>\n",
              "      <td>Offer2</td>\n",
              "      <td>Branch</td>\n",
              "      <td>484.013411</td>\n",
              "      <td>Four-Door Car</td>\n",
              "      <td>Medsize</td>\n",
              "      <td>A</td>\n",
              "    </tr>\n",
              "    <tr>\n",
              "      <th>4</th>\n",
              "      <td>4</td>\n",
              "      <td>QA50777</td>\n",
              "      <td>Oregon</td>\n",
              "      <td>9025.067525</td>\n",
              "      <td>No</td>\n",
              "      <td>Premium</td>\n",
              "      <td>Bachelor</td>\n",
              "      <td>1/17/11</td>\n",
              "      <td>Medical Leave</td>\n",
              "      <td>F</td>\n",
              "      <td>...</td>\n",
              "      <td>NaN</td>\n",
              "      <td>7</td>\n",
              "      <td>Personal Auto</td>\n",
              "      <td>Personal L2</td>\n",
              "      <td>Offer1</td>\n",
              "      <td>Branch</td>\n",
              "      <td>707.925645</td>\n",
              "      <td>Four-Door Car</td>\n",
              "      <td>Medsize</td>\n",
              "      <td>NaN</td>\n",
              "    </tr>\n",
              "  </tbody>\n",
              "</table>\n",
              "<p>5 rows × 26 columns</p>\n",
              "</div>"
            ],
            "text/plain": [
              "   unnamed:_0 customer       state  customer_lifetime_value response  \\\n",
              "0           0  DK49336     Arizona              4809.216960       No   \n",
              "1           1  KX64629  California              2228.525238       No   \n",
              "2           2  LZ68649  Washington             14947.917300       No   \n",
              "3           3  XL78013      Oregon             22332.439460      Yes   \n",
              "4           4  QA50777      Oregon              9025.067525       No   \n",
              "\n",
              "   coverage education effective_to_date employmentstatus gender  ...  \\\n",
              "0     Basic   College           2/18/11         Employed      M  ...   \n",
              "1     Basic   College           1/18/11       Unemployed      F  ...   \n",
              "2     Basic  Bachelor           2/10/11         Employed      M  ...   \n",
              "3  Extended   College           1/11/11         Employed      M  ...   \n",
              "4   Premium  Bachelor           1/17/11    Medical Leave      F  ...   \n",
              "\n",
              "   number_of_open_complaints number_of_policies     policy_type        policy  \\\n",
              "0                        0.0                  9  Corporate Auto  Corporate L3   \n",
              "1                        0.0                  1   Personal Auto   Personal L3   \n",
              "2                        0.0                  2   Personal Auto   Personal L3   \n",
              "3                        0.0                  2  Corporate Auto  Corporate L3   \n",
              "4                        NaN                  7   Personal Auto   Personal L2   \n",
              "\n",
              "   renew_offer_type  sales_channel  total_claim_amount  vehicle_class  \\\n",
              "0            Offer3          Agent          292.800000  Four-Door Car   \n",
              "1            Offer4    Call Center          744.924331  Four-Door Car   \n",
              "2            Offer3    Call Center          480.000000            SUV   \n",
              "3            Offer2         Branch          484.013411  Four-Door Car   \n",
              "4            Offer1         Branch          707.925645  Four-Door Car   \n",
              "\n",
              "  vehicle_size vehicle_type  \n",
              "0      Medsize          NaN  \n",
              "1      Medsize          NaN  \n",
              "2      Medsize            A  \n",
              "3      Medsize            A  \n",
              "4      Medsize          NaN  \n",
              "\n",
              "[5 rows x 26 columns]"
            ]
          },
          "execution_count": 3,
          "metadata": {},
          "output_type": "execute_result"
        }
      ],
      "source": [
        "# Displaying the first 5 rows of the cleaned dataframe\n",
        "df.head()"
      ]
    },
    {
      "cell_type": "code",
      "execution_count": 4,
      "id": "1955208b",
      "metadata": {},
      "outputs": [
        {
          "data": {
            "application/vnd.microsoft.datawrangler.viewer.v0+json": {
              "columns": [
                {
                  "name": "index",
                  "rawType": "object",
                  "type": "string"
                },
                {
                  "name": "0",
                  "rawType": "object",
                  "type": "unknown"
                }
              ],
              "ref": "da5f78a3-2762-4577-b3bb-1f55a0fe50e1",
              "rows": [
                [
                  "unnamed:_0",
                  "int64"
                ],
                [
                  "customer",
                  "object"
                ],
                [
                  "state",
                  "object"
                ],
                [
                  "customer_lifetime_value",
                  "float64"
                ],
                [
                  "response",
                  "object"
                ],
                [
                  "coverage",
                  "object"
                ],
                [
                  "education",
                  "object"
                ],
                [
                  "effective_to_date",
                  "object"
                ],
                [
                  "employmentstatus",
                  "object"
                ],
                [
                  "gender",
                  "object"
                ],
                [
                  "income",
                  "int64"
                ],
                [
                  "location_code",
                  "object"
                ],
                [
                  "marital_status",
                  "object"
                ],
                [
                  "monthly_premium_auto",
                  "int64"
                ],
                [
                  "months_since_last_claim",
                  "float64"
                ],
                [
                  "months_since_policy_inception",
                  "int64"
                ],
                [
                  "number_of_open_complaints",
                  "float64"
                ],
                [
                  "number_of_policies",
                  "int64"
                ],
                [
                  "policy_type",
                  "object"
                ],
                [
                  "policy",
                  "object"
                ],
                [
                  "renew_offer_type",
                  "object"
                ],
                [
                  "sales_channel",
                  "object"
                ],
                [
                  "total_claim_amount",
                  "float64"
                ],
                [
                  "vehicle_class",
                  "object"
                ],
                [
                  "vehicle_size",
                  "object"
                ],
                [
                  "vehicle_type",
                  "object"
                ]
              ],
              "shape": {
                "columns": 1,
                "rows": 26
              }
            },
            "text/plain": [
              "unnamed:_0                         int64\n",
              "customer                          object\n",
              "state                             object\n",
              "customer_lifetime_value          float64\n",
              "response                          object\n",
              "coverage                          object\n",
              "education                         object\n",
              "effective_to_date                 object\n",
              "employmentstatus                  object\n",
              "gender                            object\n",
              "income                             int64\n",
              "location_code                     object\n",
              "marital_status                    object\n",
              "monthly_premium_auto               int64\n",
              "months_since_last_claim          float64\n",
              "months_since_policy_inception      int64\n",
              "number_of_open_complaints        float64\n",
              "number_of_policies                 int64\n",
              "policy_type                       object\n",
              "policy                            object\n",
              "renew_offer_type                  object\n",
              "sales_channel                     object\n",
              "total_claim_amount               float64\n",
              "vehicle_class                     object\n",
              "vehicle_size                      object\n",
              "vehicle_type                      object\n",
              "dtype: object"
            ]
          },
          "execution_count": 4,
          "metadata": {},
          "output_type": "execute_result"
        }
      ],
      "source": [
        "# Checking data types of the dataframe columns\n",
        "df.dtypes"
      ]
    },
    {
      "cell_type": "code",
      "execution_count": 5,
      "id": "27c083df",
      "metadata": {},
      "outputs": [
        {
          "data": {
            "application/vnd.microsoft.datawrangler.viewer.v0+json": {
              "columns": [
                {
                  "name": "index",
                  "rawType": "object",
                  "type": "string"
                },
                {
                  "name": "0",
                  "rawType": "int64",
                  "type": "integer"
                }
              ],
              "ref": "43e55d9c-3014-4dcf-85f3-26df685e236b",
              "rows": [
                [
                  "unnamed:_0",
                  "0"
                ],
                [
                  "customer",
                  "0"
                ],
                [
                  "state",
                  "631"
                ],
                [
                  "customer_lifetime_value",
                  "0"
                ],
                [
                  "response",
                  "631"
                ],
                [
                  "coverage",
                  "0"
                ],
                [
                  "education",
                  "0"
                ],
                [
                  "effective_to_date",
                  "0"
                ],
                [
                  "employmentstatus",
                  "0"
                ],
                [
                  "gender",
                  "0"
                ],
                [
                  "income",
                  "0"
                ],
                [
                  "location_code",
                  "0"
                ],
                [
                  "marital_status",
                  "0"
                ],
                [
                  "monthly_premium_auto",
                  "0"
                ],
                [
                  "months_since_last_claim",
                  "633"
                ],
                [
                  "months_since_policy_inception",
                  "0"
                ],
                [
                  "number_of_open_complaints",
                  "633"
                ],
                [
                  "number_of_policies",
                  "0"
                ],
                [
                  "policy_type",
                  "0"
                ],
                [
                  "policy",
                  "0"
                ],
                [
                  "renew_offer_type",
                  "0"
                ],
                [
                  "sales_channel",
                  "0"
                ],
                [
                  "total_claim_amount",
                  "0"
                ],
                [
                  "vehicle_class",
                  "622"
                ],
                [
                  "vehicle_size",
                  "622"
                ],
                [
                  "vehicle_type",
                  "5482"
                ]
              ],
              "shape": {
                "columns": 1,
                "rows": 26
              }
            },
            "text/plain": [
              "unnamed:_0                          0\n",
              "customer                            0\n",
              "state                             631\n",
              "customer_lifetime_value             0\n",
              "response                          631\n",
              "coverage                            0\n",
              "education                           0\n",
              "effective_to_date                   0\n",
              "employmentstatus                    0\n",
              "gender                              0\n",
              "income                              0\n",
              "location_code                       0\n",
              "marital_status                      0\n",
              "monthly_premium_auto                0\n",
              "months_since_last_claim           633\n",
              "months_since_policy_inception       0\n",
              "number_of_open_complaints         633\n",
              "number_of_policies                  0\n",
              "policy_type                         0\n",
              "policy                              0\n",
              "renew_offer_type                    0\n",
              "sales_channel                       0\n",
              "total_claim_amount                  0\n",
              "vehicle_class                     622\n",
              "vehicle_size                      622\n",
              "vehicle_type                     5482\n",
              "dtype: int64"
            ]
          },
          "execution_count": 5,
          "metadata": {},
          "output_type": "execute_result"
        }
      ],
      "source": [
        "# Checking for missing values in the dataframe\n",
        "df.isna().sum()"
      ]
    },
    {
      "cell_type": "markdown",
      "id": "9c98ddc5-b041-4c94-ada1-4dfee5c98e50",
      "metadata": {
        "id": "9c98ddc5-b041-4c94-ada1-4dfee5c98e50"
      },
      "source": [
        "1. Create a new DataFrame that only includes customers who:\n",
        "   - have a **low total_claim_amount** (e.g., below $1,000),\n",
        "   - have a response \"Yes\" to the last marketing campaign."
      ]
    },
    {
      "cell_type": "code",
      "execution_count": 6,
      "id": "d73f6505",
      "metadata": {},
      "outputs": [
        {
          "name": "stdout",
          "output_type": "stream",
          "text": [
            "Total claim amount NaN values: 0\n",
            "Response NaN values: 631\n"
          ]
        }
      ],
      "source": [
        "# Checking for missing values in 'total_claim_amount' and 'response' columns\n",
        "ttc_na_check = df['total_claim_amount'].isna().sum()\n",
        "response_na_check = df['response'].isna().sum()\n",
        "print(f'Total claim amount NaN values: {ttc_na_check}')\n",
        "print(f'Response NaN values: {response_na_check}')"
      ]
    },
    {
      "cell_type": "code",
      "execution_count": 7,
      "id": "66342b11",
      "metadata": {},
      "outputs": [],
      "source": [
        "# Filling NaN values in 'response' column with 'Missing'\n",
        "df['response'] = df['response'].fillna('Missing')"
      ]
    },
    {
      "cell_type": "code",
      "execution_count": 8,
      "id": "5ef98bc5",
      "metadata": {},
      "outputs": [
        {
          "data": {
            "application/vnd.microsoft.datawrangler.viewer.v0+json": {
              "columns": [
                {
                  "name": "index",
                  "rawType": "int64",
                  "type": "integer"
                },
                {
                  "name": "unnamed:_0",
                  "rawType": "int64",
                  "type": "integer"
                },
                {
                  "name": "customer",
                  "rawType": "object",
                  "type": "string"
                },
                {
                  "name": "state",
                  "rawType": "object",
                  "type": "string"
                },
                {
                  "name": "customer_lifetime_value",
                  "rawType": "float64",
                  "type": "float"
                },
                {
                  "name": "response",
                  "rawType": "object",
                  "type": "string"
                },
                {
                  "name": "coverage",
                  "rawType": "object",
                  "type": "string"
                },
                {
                  "name": "education",
                  "rawType": "object",
                  "type": "string"
                },
                {
                  "name": "effective_to_date",
                  "rawType": "object",
                  "type": "string"
                },
                {
                  "name": "employmentstatus",
                  "rawType": "object",
                  "type": "string"
                },
                {
                  "name": "gender",
                  "rawType": "object",
                  "type": "string"
                },
                {
                  "name": "income",
                  "rawType": "int64",
                  "type": "integer"
                },
                {
                  "name": "location_code",
                  "rawType": "object",
                  "type": "string"
                },
                {
                  "name": "marital_status",
                  "rawType": "object",
                  "type": "string"
                },
                {
                  "name": "monthly_premium_auto",
                  "rawType": "int64",
                  "type": "integer"
                },
                {
                  "name": "months_since_last_claim",
                  "rawType": "float64",
                  "type": "float"
                },
                {
                  "name": "months_since_policy_inception",
                  "rawType": "int64",
                  "type": "integer"
                },
                {
                  "name": "number_of_open_complaints",
                  "rawType": "float64",
                  "type": "float"
                },
                {
                  "name": "number_of_policies",
                  "rawType": "int64",
                  "type": "integer"
                },
                {
                  "name": "policy_type",
                  "rawType": "object",
                  "type": "string"
                },
                {
                  "name": "policy",
                  "rawType": "object",
                  "type": "string"
                },
                {
                  "name": "renew_offer_type",
                  "rawType": "object",
                  "type": "string"
                },
                {
                  "name": "sales_channel",
                  "rawType": "object",
                  "type": "string"
                },
                {
                  "name": "total_claim_amount",
                  "rawType": "float64",
                  "type": "float"
                },
                {
                  "name": "vehicle_class",
                  "rawType": "object",
                  "type": "unknown"
                },
                {
                  "name": "vehicle_size",
                  "rawType": "object",
                  "type": "unknown"
                },
                {
                  "name": "vehicle_type",
                  "rawType": "object",
                  "type": "unknown"
                }
              ],
              "ref": "3b77321b-965f-48a3-af5c-cc11837f32c6",
              "rows": [
                [
                  "3",
                  "3",
                  "XL78013",
                  "Oregon",
                  "22332.43946",
                  "Yes",
                  "Extended",
                  "College",
                  "1/11/11",
                  "Employed",
                  "M",
                  "49078",
                  "Suburban",
                  "Single",
                  "97",
                  "10.0",
                  "3",
                  "0.0",
                  "2",
                  "Corporate Auto",
                  "Corporate L3",
                  "Offer2",
                  "Branch",
                  "484.013411",
                  "Four-Door Car",
                  "Medsize",
                  "A"
                ],
                [
                  "8",
                  "8",
                  "FM55990",
                  "California",
                  "5989.773931",
                  "Yes",
                  "Premium",
                  "College",
                  "1/19/11",
                  "Employed",
                  "M",
                  "66839",
                  "Suburban",
                  "Single",
                  "154",
                  "33.0",
                  "24",
                  "0.0",
                  "1",
                  "Personal Auto",
                  "Personal L1",
                  "Offer2",
                  "Branch",
                  "739.2",
                  "Sports Car",
                  "Medsize",
                  null
                ],
                [
                  "15",
                  "15",
                  "CW49887",
                  "California",
                  "4626.801093",
                  "Yes",
                  "Basic",
                  "Master",
                  "1/16/11",
                  "Employed",
                  "F",
                  "79487",
                  "Suburban",
                  "Divorced",
                  "114",
                  "20.0",
                  "87",
                  "0.0",
                  "1",
                  "Special Auto",
                  "Special L1",
                  "Offer2",
                  "Branch",
                  "547.2",
                  "SUV",
                  "Medsize",
                  null
                ],
                [
                  "19",
                  "19",
                  "NJ54277",
                  "California",
                  "3746.751625",
                  "Yes",
                  "Extended",
                  "College",
                  "2/26/11",
                  "Employed",
                  "F",
                  "41479",
                  "Rural",
                  "Married",
                  "94",
                  "14.0",
                  "38",
                  "1.0",
                  "1",
                  "Personal Auto",
                  "Personal L2",
                  "Offer2",
                  "Call Center",
                  "19.575683",
                  "Two-Door Car",
                  "Large",
                  "A"
                ],
                [
                  "27",
                  "27",
                  "MQ68407",
                  "Oregon",
                  "4376.363592",
                  "Yes",
                  "Premium",
                  "Bachelor",
                  "2/28/11",
                  "Employed",
                  "F",
                  "63774",
                  "Rural",
                  "Divorced",
                  "111",
                  "18.0",
                  "63",
                  "0.0",
                  "1",
                  "Personal Auto",
                  "Personal L3",
                  "Offer2",
                  "Agent",
                  "60.036683",
                  "Four-Door Car",
                  "Medsize",
                  null
                ],
                [
                  "65",
                  "65",
                  "LO57874",
                  "Oregon",
                  "2300.691547",
                  "Yes",
                  "Basic",
                  "Bachelor",
                  "1/15/11",
                  "Retired",
                  "M",
                  "25905",
                  "Suburban",
                  "Divorced",
                  "63",
                  "21.0",
                  "12",
                  "0.0",
                  "1",
                  "Corporate Auto",
                  "Corporate L3",
                  "Offer1",
                  "Agent",
                  "302.4",
                  "Four-Door Car",
                  "Large",
                  null
                ],
                [
                  "67",
                  "67",
                  "KR35099",
                  "Washington",
                  "7507.455372",
                  "Yes",
                  "Basic",
                  "College",
                  "2/6/11",
                  "Employed",
                  "M",
                  "60920",
                  "Urban",
                  "Single",
                  "64",
                  null,
                  "61",
                  null,
                  "2",
                  "Personal Auto",
                  "Personal L3",
                  "Offer2",
                  "Agent",
                  "231.201886",
                  "Two-Door Car",
                  "Medsize",
                  "A"
                ],
                [
                  "69",
                  "69",
                  "QG27547",
                  "Oregon",
                  "2867.312197",
                  "Yes",
                  "Extended",
                  "Bachelor",
                  "1/3/11",
                  "Retired",
                  "F",
                  "23376",
                  "Suburban",
                  "Divorced",
                  "78",
                  "19.0",
                  "18",
                  "0.0",
                  "1",
                  "Personal Auto",
                  "Personal L3",
                  "Offer2",
                  "Call Center",
                  "374.4",
                  "Four-Door Car",
                  "Medsize",
                  "A"
                ],
                [
                  "88",
                  "88",
                  "CJ51511",
                  "Arizona",
                  "13466.92071",
                  "Yes",
                  "Basic",
                  "High School or Below",
                  "2/23/11",
                  "Disabled",
                  "F",
                  "11432",
                  "Suburban",
                  "Married",
                  "119",
                  null,
                  "9",
                  null,
                  "2",
                  "Corporate Auto",
                  "Corporate L3",
                  "Offer2",
                  "Agent",
                  "571.2",
                  null,
                  null,
                  null
                ],
                [
                  "102",
                  "102",
                  "VG56765",
                  "Arizona",
                  "2471.528431",
                  "Yes",
                  "Basic",
                  "High School or Below",
                  "1/15/11",
                  "Employed",
                  "M",
                  "95697",
                  "Rural",
                  "Married",
                  "61",
                  "16.0",
                  "55",
                  "0.0",
                  "1",
                  "Personal Auto",
                  "Personal L2",
                  "Offer2",
                  "Agent",
                  "114.273025",
                  "Two-Door Car",
                  "Medsize",
                  "A"
                ],
                [
                  "111",
                  "111",
                  "DO60145",
                  "Arizona",
                  "4270.034394",
                  "Yes",
                  "Extended",
                  "College",
                  "1/19/11",
                  "Unemployed",
                  "M",
                  "0",
                  "Suburban",
                  "Married",
                  "122",
                  "27.0",
                  "2",
                  "0.0",
                  "1",
                  "Personal Auto",
                  "Personal L3",
                  "Offer2",
                  "Agent",
                  "725.870693",
                  "SUV",
                  "Medsize",
                  null
                ],
                [
                  "113",
                  "113",
                  "EC28398",
                  "Oregon",
                  "5096.673223",
                  "Yes",
                  "Basic",
                  "Master",
                  "1/28/11",
                  "Disabled",
                  "F",
                  "22886",
                  "Suburban",
                  "Divorced",
                  "65",
                  "9.0",
                  "81",
                  "0.0",
                  "3",
                  "Corporate Auto",
                  "Corporate L2",
                  "Offer1",
                  "Agent",
                  "312.0",
                  "Four-Door Car",
                  "Small",
                  "A"
                ],
                [
                  "122",
                  "122",
                  "EW33419",
                  "California",
                  "15114.40241",
                  "Yes",
                  "Basic",
                  "High School or Below",
                  "1/19/11",
                  "Medical Leave",
                  "F",
                  "28513",
                  "Suburban",
                  "Married",
                  "100",
                  "4.0",
                  "22",
                  "1.0",
                  "2",
                  "Corporate Auto",
                  "Corporate L2",
                  "Offer2",
                  "Call Center",
                  "480.0",
                  "SUV",
                  "Medsize",
                  "A"
                ],
                [
                  "125",
                  "125",
                  "BM92346",
                  "California",
                  "3919.366722",
                  "Yes",
                  "Extended",
                  "High School or Below",
                  "1/5/11",
                  "Employed",
                  "F",
                  "66676",
                  "Suburban",
                  "Married",
                  "97",
                  "0.0",
                  "40",
                  "0.0",
                  "1",
                  "Personal Auto",
                  "Personal L1",
                  "Offer3",
                  "Agent",
                  "558.099357",
                  "Four-Door Car",
                  "Small",
                  null
                ],
                [
                  "130",
                  "130",
                  "SH93005",
                  "California",
                  "6005.847375",
                  "Yes",
                  "Extended",
                  "College",
                  "2/23/11",
                  "Retired",
                  "M",
                  "13528",
                  "Suburban",
                  "Single",
                  "86",
                  "21.0",
                  "35",
                  "0.0",
                  "3",
                  "Personal Auto",
                  "Personal L3",
                  "Offer1",
                  "Agent",
                  "412.8",
                  "Four-Door Car",
                  "Medsize",
                  null
                ],
                [
                  "134",
                  "134",
                  "BP28492",
                  "Arizona",
                  "4834.710493",
                  "Yes",
                  "Basic",
                  "College",
                  "1/31/11",
                  "Employed",
                  "F",
                  "38713",
                  "Suburban",
                  "Divorced",
                  "66",
                  "31.0",
                  "69",
                  "4.0",
                  "6",
                  "Corporate Auto",
                  "Corporate L3",
                  "Offer2",
                  "Call Center",
                  "316.8",
                  "Four-Door Car",
                  "Medsize",
                  "A"
                ],
                [
                  "137",
                  "137",
                  "GS85403",
                  "Washington",
                  "9031.214859",
                  "Yes",
                  "Extended",
                  "Master",
                  "2/23/11",
                  "Unemployed",
                  "F",
                  "0",
                  "Suburban",
                  "Single",
                  "122",
                  "15.0",
                  "47",
                  "0.0",
                  "9",
                  "Corporate Auto",
                  "Corporate L2",
                  "Offer1",
                  "Branch",
                  "650.52179",
                  "Sports Car",
                  "Medsize",
                  "A"
                ],
                [
                  "144",
                  "144",
                  "NR16284",
                  "California",
                  "7462.926263",
                  "Yes",
                  "Extended",
                  "College",
                  "1/28/11",
                  "Employed",
                  "F",
                  "70263",
                  "Rural",
                  "Married",
                  "93",
                  "30.0",
                  "66",
                  "0.0",
                  "5",
                  "Personal Auto",
                  "Personal L3",
                  "Offer2",
                  "Call Center",
                  "7.345946",
                  "Two-Door Car",
                  "Small",
                  "A"
                ],
                [
                  "147",
                  "147",
                  "AZ38648",
                  "Washington",
                  "11981.98481",
                  "Yes",
                  "Basic",
                  "Master",
                  "1/20/11",
                  "Retired",
                  "F",
                  "21514",
                  "Urban",
                  "Married",
                  "62",
                  "0.0",
                  "59",
                  "0.0",
                  "2",
                  "Personal Auto",
                  "Personal L3",
                  "Offer1",
                  "Agent",
                  "257.248789",
                  "Two-Door Car",
                  "Medsize",
                  null
                ],
                [
                  "149",
                  "149",
                  "AV76907",
                  "Oregon",
                  "4282.947971",
                  "Yes",
                  "Basic",
                  "College",
                  "2/26/11",
                  "Employed",
                  "F",
                  "40864",
                  "Rural",
                  "Married",
                  "109",
                  "16.0",
                  "70",
                  "1.0",
                  "1",
                  "Personal Auto",
                  "Personal L3",
                  "Offer1",
                  "Agent",
                  "166.937747",
                  "SUV",
                  "Medsize",
                  null
                ],
                [
                  "150",
                  "150",
                  "ER97256",
                  "Arizona",
                  "5380.898636",
                  "Yes",
                  "Basic",
                  "College",
                  "2/24/11",
                  "Employed",
                  "F",
                  "55350",
                  "Suburban",
                  "Married",
                  "67",
                  "0.0",
                  "13",
                  "0.0",
                  "9",
                  "Personal Auto",
                  "Personal L3",
                  "Offer1",
                  "Agent",
                  "321.6",
                  "Four-Door Car",
                  "Medsize",
                  null
                ],
                [
                  "156",
                  "156",
                  "MW48891",
                  "Washington",
                  "8007.399376",
                  "Yes",
                  "Basic",
                  "High School or Below",
                  "1/2/11",
                  "Unemployed",
                  "F",
                  "0",
                  "Suburban",
                  "Divorced",
                  "112",
                  "12.0",
                  "93",
                  "0.0",
                  "3",
                  "Personal Auto",
                  "Personal L3",
                  "Offer1",
                  "Web",
                  "537.6",
                  "Sports Car",
                  "Medsize",
                  "A"
                ],
                [
                  "167",
                  "167",
                  "PZ47901",
                  "Arizona",
                  "5504.139033",
                  "Yes",
                  "Basic",
                  "Bachelor",
                  "2/8/11",
                  "Unemployed",
                  "F",
                  "0",
                  "Suburban",
                  "Married",
                  "73",
                  "18.0",
                  "45",
                  "0.0",
                  "5",
                  "Corporate Auto",
                  "Corporate L3",
                  "Offer1",
                  "Call Center",
                  "350.4",
                  "Four-Door Car",
                  "Medsize",
                  "A"
                ],
                [
                  "171",
                  "171",
                  "HX74855",
                  "Washington",
                  "2471.528431",
                  "Yes",
                  "Basic",
                  "High School or Below",
                  "1/15/11",
                  "Employed",
                  "M",
                  "95697",
                  "Rural",
                  "Married",
                  "61",
                  "16.0",
                  "55",
                  "0.0",
                  "1",
                  "Personal Auto",
                  "Personal L3",
                  "Offer2",
                  "Agent",
                  "114.273025",
                  "Two-Door Car",
                  "Medsize",
                  "A"
                ],
                [
                  "183",
                  "183",
                  "WJ57919",
                  "California",
                  "2674.730716",
                  "Yes",
                  "Basic",
                  "College",
                  "2/15/11",
                  "Employed",
                  "M",
                  "56342",
                  "Suburban",
                  "Single",
                  "69",
                  "12.0",
                  "89",
                  "0.0",
                  "1",
                  "Special Auto",
                  "Special L3",
                  "Offer2",
                  "Call Center",
                  "331.2",
                  "Four-Door Car",
                  "Small",
                  null
                ],
                [
                  "184",
                  "184",
                  "CI60365",
                  "California",
                  "34611.37896",
                  "Yes",
                  "Basic",
                  "High School or Below",
                  "1/14/11",
                  "Employed",
                  "F",
                  "20090",
                  "Suburban",
                  "Married",
                  "109",
                  "10.0",
                  "59",
                  "0.0",
                  "2",
                  "Special Auto",
                  "Special L3",
                  "Offer2",
                  "Agent",
                  "523.2",
                  "Sports Car",
                  "Medsize",
                  null
                ],
                [
                  "198",
                  "198",
                  "BL29046",
                  "Oregon",
                  "5332.462694",
                  "Yes",
                  "Basic",
                  "Doctor",
                  "2/22/11",
                  "Employed",
                  "F",
                  "68931",
                  "Urban",
                  "Married",
                  "66",
                  "32.0",
                  "30",
                  "0.0",
                  "7",
                  "Corporate Auto",
                  "Corporate L2",
                  "Offer2",
                  "Branch",
                  "309.577946",
                  "Four-Door Car",
                  "Medsize",
                  "A"
                ],
                [
                  "204",
                  "204",
                  "QP69826",
                  "Arizona",
                  "3567.503755",
                  "Yes",
                  "Basic",
                  "Bachelor",
                  "1/7/11",
                  "Unemployed",
                  "M",
                  "0",
                  "Suburban",
                  "Married",
                  "102",
                  "28.0",
                  "11",
                  "0.0",
                  "1",
                  "Corporate Auto",
                  "Corporate L2",
                  "Offer2",
                  "Agent",
                  "660.430456",
                  "SUV",
                  "Medsize",
                  "A"
                ],
                [
                  "205",
                  "205",
                  "YZ19736",
                  "Arizona",
                  "2580.849899",
                  "Yes",
                  "Basic",
                  "College",
                  "2/9/11",
                  "Employed",
                  "M",
                  "46900",
                  "Suburban",
                  "Married",
                  "66",
                  "13.0",
                  "59",
                  "0.0",
                  "1",
                  "Personal Auto",
                  "Personal L2",
                  "Offer2",
                  "Web",
                  "316.8",
                  null,
                  null,
                  "A"
                ],
                [
                  "228",
                  "228",
                  "XQ51968",
                  "California",
                  "5568.947534",
                  "Yes",
                  "Extended",
                  "High School or Below",
                  "1/1/11",
                  "Unemployed",
                  "M",
                  "0",
                  "Suburban",
                  "Single",
                  "79",
                  "21.0",
                  "53",
                  "1.0",
                  "7",
                  "Corporate Auto",
                  "Corporate L3",
                  "Offer1",
                  "Agent",
                  "407.440238",
                  "Two-Door Car",
                  "Medsize",
                  null
                ],
                [
                  "232",
                  "232",
                  "WH20102",
                  "California",
                  "9095.049868",
                  "Yes",
                  "Basic",
                  "College",
                  "1/11/11",
                  "Employed",
                  "M",
                  "37937",
                  "Suburban",
                  "Married",
                  "116",
                  "11.0",
                  "42",
                  "0.0",
                  "5",
                  "Personal Auto",
                  "Personal L2",
                  "Offer2",
                  "Call Center",
                  "556.8",
                  "SUV",
                  "Medsize",
                  "A"
                ],
                [
                  "235",
                  "235",
                  "GL66847",
                  "Arizona",
                  "8256.2978",
                  "Yes",
                  "Basic",
                  "Bachelor",
                  "1/25/11",
                  "Employed",
                  "F",
                  "62902",
                  "Rural",
                  "Married",
                  "69",
                  "14.0",
                  "94",
                  "0.0",
                  "2",
                  "Personal Auto",
                  "Personal L3",
                  "Offer2",
                  "Web",
                  "159.383042",
                  "Two-Door Car",
                  "Medsize",
                  null
                ],
                [
                  "237",
                  "237",
                  "QT27514",
                  "California",
                  "5318.89664",
                  "Yes",
                  "Basic",
                  "Bachelor",
                  "1/12/11",
                  "Employed",
                  "F",
                  "25134",
                  "Suburban",
                  "Married",
                  "67",
                  "3.0",
                  "0",
                  "0.0",
                  "6",
                  "Personal Auto",
                  "Personal L3",
                  "Offer2",
                  "Call Center",
                  "321.6",
                  "Four-Door Car",
                  "Small",
                  null
                ],
                [
                  "239",
                  "239",
                  "BL90769",
                  "California",
                  "33473.34946",
                  "Yes",
                  "Basic",
                  "Bachelor",
                  "1/11/11",
                  "Employed",
                  "F",
                  "33190",
                  "Suburban",
                  "Divorced",
                  "106",
                  "18.0",
                  "95",
                  "0.0",
                  "2",
                  "Personal Auto",
                  "Personal L3",
                  "Offer1",
                  "Web",
                  "508.8",
                  "SUV",
                  "Medsize",
                  null
                ],
                [
                  "241",
                  "241",
                  "WK24299",
                  "California",
                  "4772.943848",
                  "Yes",
                  "Extended",
                  "High School or Below",
                  "2/18/11",
                  "Retired",
                  "M",
                  "20993",
                  "Suburban",
                  "Divorced",
                  "133",
                  "35.0",
                  "90",
                  "0.0",
                  "1",
                  "Personal Auto",
                  "Personal L3",
                  "Offer2",
                  "Agent",
                  "638.4",
                  "SUV",
                  "Medsize",
                  null
                ],
                [
                  "249",
                  "249",
                  "FM52759",
                  "Nevada",
                  "5548.031892",
                  "Yes",
                  "Basic",
                  "Bachelor",
                  "1/13/11",
                  "Employed",
                  "M",
                  "67798",
                  "Suburban",
                  "Divorced",
                  "69",
                  "1.0",
                  "78",
                  "0.0",
                  "9",
                  "Personal Auto",
                  "Personal L3",
                  "Offer1",
                  "Agent",
                  "331.2",
                  "Four-Door Car",
                  "Medsize",
                  null
                ],
                [
                  "258",
                  "258",
                  "RF94484",
                  "Oregon",
                  "4605.036646",
                  "Yes",
                  "Basic",
                  "College",
                  "1/28/11",
                  "Medical Leave",
                  "F",
                  "22571",
                  "Suburban",
                  "Single",
                  "63",
                  "29.0",
                  "51",
                  "0.0",
                  "9",
                  "Corporate Auto",
                  "Corporate L3",
                  "Offer2",
                  "Web",
                  "302.4",
                  "Four-Door Car",
                  "Large",
                  "A"
                ],
                [
                  "273",
                  "273",
                  "JC38573",
                  "Oregon",
                  "5528.212807",
                  "Yes",
                  "Basic",
                  "Bachelor",
                  "1/19/11",
                  "Employed",
                  "M",
                  "36088",
                  "Suburban",
                  "Single",
                  "72",
                  "16.0",
                  "31",
                  "0.0",
                  "9",
                  "Corporate Auto",
                  "Corporate L3",
                  "Offer1",
                  "Agent",
                  "345.6",
                  "Four-Door Car",
                  "Medsize",
                  "A"
                ],
                [
                  "285",
                  "285",
                  "PT40521",
                  "California",
                  "4334.064096",
                  "Yes",
                  "Extended",
                  "Bachelor",
                  "2/27/11",
                  "Retired",
                  "F",
                  "23904",
                  "Suburban",
                  "Single",
                  "123",
                  "1.0",
                  "67",
                  "3.0",
                  "1",
                  "Corporate Auto",
                  "Corporate L1",
                  "Offer1",
                  "Agent",
                  "590.4",
                  "SUV",
                  "Medsize",
                  null
                ],
                [
                  "287",
                  "287",
                  "WO95180",
                  "California",
                  "2397.036098",
                  "Yes",
                  "Basic",
                  "High School or Below",
                  "1/29/11",
                  "Retired",
                  "F",
                  "22283",
                  "Suburban",
                  "Divorced",
                  "65",
                  "16.0",
                  "93",
                  "0.0",
                  "1",
                  "Corporate Auto",
                  "Corporate L3",
                  "Offer1",
                  "Branch",
                  "572.072106",
                  "Four-Door Car",
                  "Medsize",
                  null
                ],
                [
                  "295",
                  "295",
                  "BL44722",
                  "Nevada",
                  "41787.90343",
                  "Yes",
                  "Premium",
                  "High School or Below",
                  "1/31/11",
                  "Employed",
                  "F",
                  "46587",
                  "Suburban",
                  "Divorced",
                  "119",
                  "34.0",
                  "74",
                  "2.0",
                  "2",
                  "Personal Auto",
                  "Personal L2",
                  "Offer1",
                  "Call Center",
                  "571.2",
                  "Four-Door Car",
                  "Medsize",
                  null
                ],
                [
                  "306",
                  "306",
                  "ZX73673",
                  "Arizona",
                  "5555.830205",
                  "Yes",
                  "Basic",
                  "Bachelor",
                  "2/6/11",
                  "Employed",
                  "M",
                  "74015",
                  "Suburban",
                  "Single",
                  "72",
                  "12.0",
                  "61",
                  "0.0",
                  "6",
                  "Personal Auto",
                  "Personal L3",
                  "Offer2",
                  "Call Center",
                  "471.443077",
                  "Four-Door Car",
                  "Small",
                  null
                ],
                [
                  "308",
                  "308",
                  "GH48839",
                  "California",
                  "11790.49617",
                  "Yes",
                  "Basic",
                  "College",
                  "1/3/11",
                  "Retired",
                  "M",
                  "25251",
                  "Suburban",
                  "Divorced",
                  "66",
                  "13.0",
                  "43",
                  "0.0",
                  "2",
                  "Corporate Auto",
                  "Corporate L3",
                  "Offer2",
                  "Web",
                  "316.8",
                  "Four-Door Car",
                  "Medsize",
                  null
                ],
                [
                  "312",
                  "312",
                  "GX47381",
                  "California",
                  "9657.579498",
                  "Yes",
                  "Extended",
                  "High School or Below",
                  "1/31/11",
                  "Unemployed",
                  "M",
                  "0",
                  "Suburban",
                  "Married",
                  "131",
                  "34.0",
                  "61",
                  "0.0",
                  "9",
                  "Corporate Auto",
                  "Corporate L3",
                  "Offer1",
                  "Agent",
                  "628.8",
                  "SUV",
                  "Medsize",
                  null
                ],
                [
                  "316",
                  "316",
                  "VS42598",
                  "California",
                  "8256.2978",
                  "Yes",
                  "Basic",
                  "Bachelor",
                  "1/25/11",
                  "Employed",
                  "F",
                  "62902",
                  "Rural",
                  "Married",
                  "69",
                  "14.0",
                  "94",
                  "0.0",
                  "2",
                  "Personal Auto",
                  "Personal L1",
                  "Offer2",
                  "Web",
                  "159.383042",
                  "Two-Door Car",
                  "Medsize",
                  null
                ],
                [
                  "320",
                  "320",
                  "FX57380",
                  "California",
                  "5217.513287",
                  "Yes",
                  "Basic",
                  "Bachelor",
                  "2/17/11",
                  "Employed",
                  "F",
                  "39854",
                  "Urban",
                  "Divorced",
                  "66",
                  "6.0",
                  "4",
                  "0.0",
                  "7",
                  "Personal Auto",
                  "Personal L2",
                  "Offer2",
                  "Web",
                  "261.930545",
                  "Two-Door Car",
                  "Medsize",
                  null
                ],
                [
                  "344",
                  "344",
                  "JY16280",
                  "California",
                  "2514.59196",
                  "Yes",
                  "Basic",
                  "High School or Below",
                  "2/14/11",
                  "Employed",
                  "F",
                  "43860",
                  "Rural",
                  "Single",
                  "65",
                  "15.0",
                  "58",
                  "0.0",
                  "1",
                  "Personal Auto",
                  "Personal L2",
                  "Offer2",
                  "Agent",
                  "156.124914",
                  "Four-Door Car",
                  "Medsize",
                  "A"
                ],
                [
                  "346",
                  "346",
                  "YC69616",
                  "Arizona",
                  "2719.506996",
                  "Yes",
                  "Basic",
                  "College",
                  "1/24/11",
                  "Retired",
                  "F",
                  "14030",
                  "Suburban",
                  "Married",
                  "72",
                  "11.0",
                  "3",
                  "0.0",
                  "1",
                  "Personal Auto",
                  "Personal L3",
                  "Offer2",
                  "Branch",
                  "345.6",
                  null,
                  null,
                  "A"
                ],
                [
                  "352",
                  "352",
                  "LR10110",
                  "Washington",
                  "5504.139033",
                  "Yes",
                  "Basic",
                  "Bachelor",
                  "2/8/11",
                  "Unemployed",
                  "F",
                  "0",
                  "Suburban",
                  "Married",
                  "73",
                  "18.0",
                  "45",
                  "0.0",
                  "5",
                  "Corporate Auto",
                  "Corporate L3",
                  "Offer1",
                  "Call Center",
                  "350.4",
                  "Four-Door Car",
                  "Medsize",
                  null
                ],
                [
                  "360",
                  "360",
                  "VF17463",
                  "Oregon",
                  "8658.863813",
                  "Yes",
                  "Basic",
                  "College",
                  "2/7/11",
                  "Employed",
                  "M",
                  "62464",
                  "Urban",
                  "Married",
                  "109",
                  "23.0",
                  "45",
                  "0.0",
                  "4",
                  "Personal Auto",
                  "Personal L3",
                  "Offer2",
                  "Agent",
                  "400.181882",
                  "Sports Car",
                  "Medsize",
                  null
                ]
              ],
              "shape": {
                "columns": 26,
                "rows": 1399
              }
            },
            "text/html": [
              "<div>\n",
              "<style scoped>\n",
              "    .dataframe tbody tr th:only-of-type {\n",
              "        vertical-align: middle;\n",
              "    }\n",
              "\n",
              "    .dataframe tbody tr th {\n",
              "        vertical-align: top;\n",
              "    }\n",
              "\n",
              "    .dataframe thead th {\n",
              "        text-align: right;\n",
              "    }\n",
              "</style>\n",
              "<table border=\"1\" class=\"dataframe\">\n",
              "  <thead>\n",
              "    <tr style=\"text-align: right;\">\n",
              "      <th></th>\n",
              "      <th>unnamed:_0</th>\n",
              "      <th>customer</th>\n",
              "      <th>state</th>\n",
              "      <th>customer_lifetime_value</th>\n",
              "      <th>response</th>\n",
              "      <th>coverage</th>\n",
              "      <th>education</th>\n",
              "      <th>effective_to_date</th>\n",
              "      <th>employmentstatus</th>\n",
              "      <th>gender</th>\n",
              "      <th>...</th>\n",
              "      <th>number_of_open_complaints</th>\n",
              "      <th>number_of_policies</th>\n",
              "      <th>policy_type</th>\n",
              "      <th>policy</th>\n",
              "      <th>renew_offer_type</th>\n",
              "      <th>sales_channel</th>\n",
              "      <th>total_claim_amount</th>\n",
              "      <th>vehicle_class</th>\n",
              "      <th>vehicle_size</th>\n",
              "      <th>vehicle_type</th>\n",
              "    </tr>\n",
              "  </thead>\n",
              "  <tbody>\n",
              "    <tr>\n",
              "      <th>3</th>\n",
              "      <td>3</td>\n",
              "      <td>XL78013</td>\n",
              "      <td>Oregon</td>\n",
              "      <td>22332.439460</td>\n",
              "      <td>Yes</td>\n",
              "      <td>Extended</td>\n",
              "      <td>College</td>\n",
              "      <td>1/11/11</td>\n",
              "      <td>Employed</td>\n",
              "      <td>M</td>\n",
              "      <td>...</td>\n",
              "      <td>0.0</td>\n",
              "      <td>2</td>\n",
              "      <td>Corporate Auto</td>\n",
              "      <td>Corporate L3</td>\n",
              "      <td>Offer2</td>\n",
              "      <td>Branch</td>\n",
              "      <td>484.013411</td>\n",
              "      <td>Four-Door Car</td>\n",
              "      <td>Medsize</td>\n",
              "      <td>A</td>\n",
              "    </tr>\n",
              "    <tr>\n",
              "      <th>8</th>\n",
              "      <td>8</td>\n",
              "      <td>FM55990</td>\n",
              "      <td>California</td>\n",
              "      <td>5989.773931</td>\n",
              "      <td>Yes</td>\n",
              "      <td>Premium</td>\n",
              "      <td>College</td>\n",
              "      <td>1/19/11</td>\n",
              "      <td>Employed</td>\n",
              "      <td>M</td>\n",
              "      <td>...</td>\n",
              "      <td>0.0</td>\n",
              "      <td>1</td>\n",
              "      <td>Personal Auto</td>\n",
              "      <td>Personal L1</td>\n",
              "      <td>Offer2</td>\n",
              "      <td>Branch</td>\n",
              "      <td>739.200000</td>\n",
              "      <td>Sports Car</td>\n",
              "      <td>Medsize</td>\n",
              "      <td>NaN</td>\n",
              "    </tr>\n",
              "    <tr>\n",
              "      <th>15</th>\n",
              "      <td>15</td>\n",
              "      <td>CW49887</td>\n",
              "      <td>California</td>\n",
              "      <td>4626.801093</td>\n",
              "      <td>Yes</td>\n",
              "      <td>Basic</td>\n",
              "      <td>Master</td>\n",
              "      <td>1/16/11</td>\n",
              "      <td>Employed</td>\n",
              "      <td>F</td>\n",
              "      <td>...</td>\n",
              "      <td>0.0</td>\n",
              "      <td>1</td>\n",
              "      <td>Special Auto</td>\n",
              "      <td>Special L1</td>\n",
              "      <td>Offer2</td>\n",
              "      <td>Branch</td>\n",
              "      <td>547.200000</td>\n",
              "      <td>SUV</td>\n",
              "      <td>Medsize</td>\n",
              "      <td>NaN</td>\n",
              "    </tr>\n",
              "    <tr>\n",
              "      <th>19</th>\n",
              "      <td>19</td>\n",
              "      <td>NJ54277</td>\n",
              "      <td>California</td>\n",
              "      <td>3746.751625</td>\n",
              "      <td>Yes</td>\n",
              "      <td>Extended</td>\n",
              "      <td>College</td>\n",
              "      <td>2/26/11</td>\n",
              "      <td>Employed</td>\n",
              "      <td>F</td>\n",
              "      <td>...</td>\n",
              "      <td>1.0</td>\n",
              "      <td>1</td>\n",
              "      <td>Personal Auto</td>\n",
              "      <td>Personal L2</td>\n",
              "      <td>Offer2</td>\n",
              "      <td>Call Center</td>\n",
              "      <td>19.575683</td>\n",
              "      <td>Two-Door Car</td>\n",
              "      <td>Large</td>\n",
              "      <td>A</td>\n",
              "    </tr>\n",
              "    <tr>\n",
              "      <th>27</th>\n",
              "      <td>27</td>\n",
              "      <td>MQ68407</td>\n",
              "      <td>Oregon</td>\n",
              "      <td>4376.363592</td>\n",
              "      <td>Yes</td>\n",
              "      <td>Premium</td>\n",
              "      <td>Bachelor</td>\n",
              "      <td>2/28/11</td>\n",
              "      <td>Employed</td>\n",
              "      <td>F</td>\n",
              "      <td>...</td>\n",
              "      <td>0.0</td>\n",
              "      <td>1</td>\n",
              "      <td>Personal Auto</td>\n",
              "      <td>Personal L3</td>\n",
              "      <td>Offer2</td>\n",
              "      <td>Agent</td>\n",
              "      <td>60.036683</td>\n",
              "      <td>Four-Door Car</td>\n",
              "      <td>Medsize</td>\n",
              "      <td>NaN</td>\n",
              "    </tr>\n",
              "    <tr>\n",
              "      <th>...</th>\n",
              "      <td>...</td>\n",
              "      <td>...</td>\n",
              "      <td>...</td>\n",
              "      <td>...</td>\n",
              "      <td>...</td>\n",
              "      <td>...</td>\n",
              "      <td>...</td>\n",
              "      <td>...</td>\n",
              "      <td>...</td>\n",
              "      <td>...</td>\n",
              "      <td>...</td>\n",
              "      <td>...</td>\n",
              "      <td>...</td>\n",
              "      <td>...</td>\n",
              "      <td>...</td>\n",
              "      <td>...</td>\n",
              "      <td>...</td>\n",
              "      <td>...</td>\n",
              "      <td>...</td>\n",
              "      <td>...</td>\n",
              "      <td>...</td>\n",
              "    </tr>\n",
              "    <tr>\n",
              "      <th>10844</th>\n",
              "      <td>10844</td>\n",
              "      <td>FM31768</td>\n",
              "      <td>Arizona</td>\n",
              "      <td>5979.724161</td>\n",
              "      <td>Yes</td>\n",
              "      <td>Extended</td>\n",
              "      <td>High School or Below</td>\n",
              "      <td>2/7/11</td>\n",
              "      <td>Employed</td>\n",
              "      <td>F</td>\n",
              "      <td>...</td>\n",
              "      <td>0.0</td>\n",
              "      <td>3</td>\n",
              "      <td>Personal Auto</td>\n",
              "      <td>Personal L1</td>\n",
              "      <td>Offer2</td>\n",
              "      <td>Agent</td>\n",
              "      <td>547.200000</td>\n",
              "      <td>Four-Door Car</td>\n",
              "      <td>Medsize</td>\n",
              "      <td>NaN</td>\n",
              "    </tr>\n",
              "    <tr>\n",
              "      <th>10852</th>\n",
              "      <td>10852</td>\n",
              "      <td>KZ80424</td>\n",
              "      <td>Washington</td>\n",
              "      <td>8382.478392</td>\n",
              "      <td>Yes</td>\n",
              "      <td>Basic</td>\n",
              "      <td>Bachelor</td>\n",
              "      <td>1/27/11</td>\n",
              "      <td>Employed</td>\n",
              "      <td>M</td>\n",
              "      <td>...</td>\n",
              "      <td>0.0</td>\n",
              "      <td>2</td>\n",
              "      <td>Personal Auto</td>\n",
              "      <td>Personal L2</td>\n",
              "      <td>Offer2</td>\n",
              "      <td>Call Center</td>\n",
              "      <td>791.878042</td>\n",
              "      <td>NaN</td>\n",
              "      <td>NaN</td>\n",
              "      <td>A</td>\n",
              "    </tr>\n",
              "    <tr>\n",
              "      <th>10872</th>\n",
              "      <td>10872</td>\n",
              "      <td>XT67997</td>\n",
              "      <td>California</td>\n",
              "      <td>5979.724161</td>\n",
              "      <td>Yes</td>\n",
              "      <td>Extended</td>\n",
              "      <td>High School or Below</td>\n",
              "      <td>2/7/11</td>\n",
              "      <td>Employed</td>\n",
              "      <td>F</td>\n",
              "      <td>...</td>\n",
              "      <td>0.0</td>\n",
              "      <td>3</td>\n",
              "      <td>Personal Auto</td>\n",
              "      <td>Personal L3</td>\n",
              "      <td>Offer2</td>\n",
              "      <td>Agent</td>\n",
              "      <td>547.200000</td>\n",
              "      <td>Four-Door Car</td>\n",
              "      <td>Medsize</td>\n",
              "      <td>NaN</td>\n",
              "    </tr>\n",
              "    <tr>\n",
              "      <th>10887</th>\n",
              "      <td>10887</td>\n",
              "      <td>BY78730</td>\n",
              "      <td>Oregon</td>\n",
              "      <td>8879.790017</td>\n",
              "      <td>Yes</td>\n",
              "      <td>Basic</td>\n",
              "      <td>High School or Below</td>\n",
              "      <td>2/3/11</td>\n",
              "      <td>Employed</td>\n",
              "      <td>F</td>\n",
              "      <td>...</td>\n",
              "      <td>0.0</td>\n",
              "      <td>7</td>\n",
              "      <td>Special Auto</td>\n",
              "      <td>Special L2</td>\n",
              "      <td>Offer1</td>\n",
              "      <td>Agent</td>\n",
              "      <td>528.200860</td>\n",
              "      <td>SUV</td>\n",
              "      <td>Small</td>\n",
              "      <td>A</td>\n",
              "    </tr>\n",
              "    <tr>\n",
              "      <th>10897</th>\n",
              "      <td>10897</td>\n",
              "      <td>MM70762</td>\n",
              "      <td>Arizona</td>\n",
              "      <td>9075.768214</td>\n",
              "      <td>Yes</td>\n",
              "      <td>Basic</td>\n",
              "      <td>Master</td>\n",
              "      <td>1/26/11</td>\n",
              "      <td>Employed</td>\n",
              "      <td>M</td>\n",
              "      <td>...</td>\n",
              "      <td>0.0</td>\n",
              "      <td>8</td>\n",
              "      <td>Personal Auto</td>\n",
              "      <td>Personal L1</td>\n",
              "      <td>Offer1</td>\n",
              "      <td>Agent</td>\n",
              "      <td>158.077504</td>\n",
              "      <td>Sports Car</td>\n",
              "      <td>Medsize</td>\n",
              "      <td>A</td>\n",
              "    </tr>\n",
              "  </tbody>\n",
              "</table>\n",
              "<p>1399 rows × 26 columns</p>\n",
              "</div>"
            ],
            "text/plain": [
              "       unnamed:_0 customer       state  customer_lifetime_value response  \\\n",
              "3               3  XL78013      Oregon             22332.439460      Yes   \n",
              "8               8  FM55990  California              5989.773931      Yes   \n",
              "15             15  CW49887  California              4626.801093      Yes   \n",
              "19             19  NJ54277  California              3746.751625      Yes   \n",
              "27             27  MQ68407      Oregon              4376.363592      Yes   \n",
              "...           ...      ...         ...                      ...      ...   \n",
              "10844       10844  FM31768     Arizona              5979.724161      Yes   \n",
              "10852       10852  KZ80424  Washington              8382.478392      Yes   \n",
              "10872       10872  XT67997  California              5979.724161      Yes   \n",
              "10887       10887  BY78730      Oregon              8879.790017      Yes   \n",
              "10897       10897  MM70762     Arizona              9075.768214      Yes   \n",
              "\n",
              "       coverage             education effective_to_date employmentstatus  \\\n",
              "3      Extended               College           1/11/11         Employed   \n",
              "8       Premium               College           1/19/11         Employed   \n",
              "15        Basic                Master           1/16/11         Employed   \n",
              "19     Extended               College           2/26/11         Employed   \n",
              "27      Premium              Bachelor           2/28/11         Employed   \n",
              "...         ...                   ...               ...              ...   \n",
              "10844  Extended  High School or Below            2/7/11         Employed   \n",
              "10852     Basic              Bachelor           1/27/11         Employed   \n",
              "10872  Extended  High School or Below            2/7/11         Employed   \n",
              "10887     Basic  High School or Below            2/3/11         Employed   \n",
              "10897     Basic                Master           1/26/11         Employed   \n",
              "\n",
              "      gender  ...  number_of_open_complaints number_of_policies  \\\n",
              "3          M  ...                        0.0                  2   \n",
              "8          M  ...                        0.0                  1   \n",
              "15         F  ...                        0.0                  1   \n",
              "19         F  ...                        1.0                  1   \n",
              "27         F  ...                        0.0                  1   \n",
              "...      ...  ...                        ...                ...   \n",
              "10844      F  ...                        0.0                  3   \n",
              "10852      M  ...                        0.0                  2   \n",
              "10872      F  ...                        0.0                  3   \n",
              "10887      F  ...                        0.0                  7   \n",
              "10897      M  ...                        0.0                  8   \n",
              "\n",
              "          policy_type        policy  renew_offer_type  sales_channel  \\\n",
              "3      Corporate Auto  Corporate L3            Offer2         Branch   \n",
              "8       Personal Auto   Personal L1            Offer2         Branch   \n",
              "15       Special Auto    Special L1            Offer2         Branch   \n",
              "19      Personal Auto   Personal L2            Offer2    Call Center   \n",
              "27      Personal Auto   Personal L3            Offer2          Agent   \n",
              "...               ...           ...               ...            ...   \n",
              "10844   Personal Auto   Personal L1            Offer2          Agent   \n",
              "10852   Personal Auto   Personal L2            Offer2    Call Center   \n",
              "10872   Personal Auto   Personal L3            Offer2          Agent   \n",
              "10887    Special Auto    Special L2            Offer1          Agent   \n",
              "10897   Personal Auto   Personal L1            Offer1          Agent   \n",
              "\n",
              "       total_claim_amount  vehicle_class vehicle_size vehicle_type  \n",
              "3              484.013411  Four-Door Car      Medsize            A  \n",
              "8              739.200000     Sports Car      Medsize          NaN  \n",
              "15             547.200000            SUV      Medsize          NaN  \n",
              "19              19.575683   Two-Door Car        Large            A  \n",
              "27              60.036683  Four-Door Car      Medsize          NaN  \n",
              "...                   ...            ...          ...          ...  \n",
              "10844          547.200000  Four-Door Car      Medsize          NaN  \n",
              "10852          791.878042            NaN          NaN            A  \n",
              "10872          547.200000  Four-Door Car      Medsize          NaN  \n",
              "10887          528.200860            SUV        Small            A  \n",
              "10897          158.077504     Sports Car      Medsize            A  \n",
              "\n",
              "[1399 rows x 26 columns]"
            ]
          },
          "execution_count": 8,
          "metadata": {},
          "output_type": "execute_result"
        }
      ],
      "source": [
        "# Creating a new dataframe with rows where 'total_claim_amount' is less than 1000 and 'response' is 'Yes'\n",
        "claim_less_1000_response_yes_df = df[(df['total_claim_amount'] < 1000) & (df['response'] == 'Yes')]\n",
        "claim_less_1000_response_yes_df"
      ]
    },
    {
      "cell_type": "markdown",
      "id": "b9be383e-5165-436e-80c8-57d4c757c8c3",
      "metadata": {
        "id": "b9be383e-5165-436e-80c8-57d4c757c8c3"
      },
      "source": [
        "2. Using the original Dataframe, analyze:\n",
        "   - the average `monthly_premium` and/or customer lifetime value by `policy_type` and `gender` for customers who responded \"Yes\""
      ]
    },
    {
      "cell_type": "code",
      "execution_count": 9,
      "id": "281f321c",
      "metadata": {},
      "outputs": [
        {
          "name": "stdout",
          "output_type": "stream",
          "text": [
            "Monthly premium auto NaN values: 0\n",
            "Gender NaN values: 0\n",
            "Policy type NaN values: 0\n"
          ]
        }
      ],
      "source": [
        "# Checking for missing values in 'monthly_premium_auto', 'gender', and 'policy_type' columns\n",
        "mpa_nan_check = df['monthly_premium_auto'].isna().sum()\n",
        "gender_nan_check = df['gender'].isna().sum()\n",
        "policy_nan_check = df['policy_type'].isna().sum()\n",
        "print(f'Monthly premium auto NaN values: {mpa_nan_check}')\n",
        "print(f'Gender NaN values: {gender_nan_check}')\n",
        "print(f'Policy type NaN values: {policy_nan_check}')"
      ]
    },
    {
      "cell_type": "code",
      "execution_count": 10,
      "id": "c9592c2b",
      "metadata": {},
      "outputs": [
        {
          "name": "stdout",
          "output_type": "stream",
          "text": [
            "Monthly premium auto data type: int64\n",
            "Gender data type: object\n",
            "Policy type data type: object\n"
          ]
        }
      ],
      "source": [
        "# Checking data types of columns that are going to be used in the analysis\n",
        "df['monthly_premium_auto'].dtype\n",
        "df['gender'].dtype\n",
        "df['policy_type'].dtype\n",
        "print(f'Monthly premium auto data type: {df[\"monthly_premium_auto\"].dtype}')\n",
        "print(f'Gender data type: {df[\"gender\"].dtype}')\n",
        "print(f'Policy type data type: {df[\"policy_type\"].dtype}')"
      ]
    },
    {
      "cell_type": "code",
      "execution_count": 11,
      "id": "0f264f05",
      "metadata": {},
      "outputs": [
        {
          "data": {
            "application/vnd.microsoft.datawrangler.viewer.v0+json": {
              "columns": [
                {
                  "name": "policy_type",
                  "rawType": "object",
                  "type": "string"
                },
                {
                  "name": "('monthly_premium_auto', 'F')",
                  "rawType": "float64",
                  "type": "float"
                },
                {
                  "name": "('monthly_premium_auto', 'M')",
                  "rawType": "float64",
                  "type": "float"
                }
              ],
              "ref": "6ecca1d3-19dc-47c1-8b27-9839bde8c15f",
              "rows": [
                [
                  "Corporate Auto",
                  "91.38",
                  "94.76"
                ],
                [
                  "Personal Auto",
                  "93.15",
                  "93.3"
                ],
                [
                  "Special Auto",
                  "93.56",
                  "93.2"
                ]
              ],
              "shape": {
                "columns": 2,
                "rows": 3
              }
            },
            "text/html": [
              "<div>\n",
              "<style scoped>\n",
              "    .dataframe tbody tr th:only-of-type {\n",
              "        vertical-align: middle;\n",
              "    }\n",
              "\n",
              "    .dataframe tbody tr th {\n",
              "        vertical-align: top;\n",
              "    }\n",
              "\n",
              "    .dataframe thead tr th {\n",
              "        text-align: left;\n",
              "    }\n",
              "\n",
              "    .dataframe thead tr:last-of-type th {\n",
              "        text-align: right;\n",
              "    }\n",
              "</style>\n",
              "<table border=\"1\" class=\"dataframe\">\n",
              "  <thead>\n",
              "    <tr>\n",
              "      <th></th>\n",
              "      <th colspan=\"2\" halign=\"left\">monthly_premium_auto</th>\n",
              "    </tr>\n",
              "    <tr>\n",
              "      <th>gender</th>\n",
              "      <th>F</th>\n",
              "      <th>M</th>\n",
              "    </tr>\n",
              "    <tr>\n",
              "      <th>policy_type</th>\n",
              "      <th></th>\n",
              "      <th></th>\n",
              "    </tr>\n",
              "  </thead>\n",
              "  <tbody>\n",
              "    <tr>\n",
              "      <th>Corporate Auto</th>\n",
              "      <td>91.38</td>\n",
              "      <td>94.76</td>\n",
              "    </tr>\n",
              "    <tr>\n",
              "      <th>Personal Auto</th>\n",
              "      <td>93.15</td>\n",
              "      <td>93.30</td>\n",
              "    </tr>\n",
              "    <tr>\n",
              "      <th>Special Auto</th>\n",
              "      <td>93.56</td>\n",
              "      <td>93.20</td>\n",
              "    </tr>\n",
              "  </tbody>\n",
              "</table>\n",
              "</div>"
            ],
            "text/plain": [
              "               monthly_premium_auto       \n",
              "gender                            F      M\n",
              "policy_type                               \n",
              "Corporate Auto                91.38  94.76\n",
              "Personal Auto                 93.15  93.30\n",
              "Special Auto                  93.56  93.20"
            ]
          },
          "execution_count": 11,
          "metadata": {},
          "output_type": "execute_result"
        }
      ],
      "source": [
        "# Creating a pivot table to analyze the average monthly premium by policy type and gender\n",
        "pivot_df = df.pivot_table(\n",
        "    index='policy_type',\n",
        "    columns='gender',\n",
        "    values=['monthly_premium_auto'],\n",
        "    aggfunc='mean'\n",
        ").round(2)\n",
        "pivot_df"
      ]
    },
    {
      "cell_type": "markdown",
      "id": "9704b6d8",
      "metadata": {},
      "source": [
        "   - compare these insights to `total_claim_amount` patterns, and discuss which segments appear most profitable or low-risk for the company."
      ]
    },
    {
      "cell_type": "code",
      "execution_count": 12,
      "id": "21c863fe",
      "metadata": {},
      "outputs": [
        {
          "data": {
            "application/vnd.microsoft.datawrangler.viewer.v0+json": {
              "columns": [
                {
                  "name": "policy_type",
                  "rawType": "object",
                  "type": "string"
                },
                {
                  "name": "('total_claim_amount', 'F')",
                  "rawType": "float64",
                  "type": "float"
                },
                {
                  "name": "('total_claim_amount', 'M')",
                  "rawType": "float64",
                  "type": "float"
                }
              ],
              "ref": "80112963-201c-4433-a476-5d5efbfb6c0e",
              "rows": [
                [
                  "Corporate Auto",
                  "397.8",
                  "462.22"
                ],
                [
                  "Personal Auto",
                  "413.24",
                  "459.92"
                ],
                [
                  "Special Auto",
                  "458.14",
                  "420.36"
                ]
              ],
              "shape": {
                "columns": 2,
                "rows": 3
              }
            },
            "text/html": [
              "<div>\n",
              "<style scoped>\n",
              "    .dataframe tbody tr th:only-of-type {\n",
              "        vertical-align: middle;\n",
              "    }\n",
              "\n",
              "    .dataframe tbody tr th {\n",
              "        vertical-align: top;\n",
              "    }\n",
              "\n",
              "    .dataframe thead tr th {\n",
              "        text-align: left;\n",
              "    }\n",
              "\n",
              "    .dataframe thead tr:last-of-type th {\n",
              "        text-align: right;\n",
              "    }\n",
              "</style>\n",
              "<table border=\"1\" class=\"dataframe\">\n",
              "  <thead>\n",
              "    <tr>\n",
              "      <th></th>\n",
              "      <th colspan=\"2\" halign=\"left\">total_claim_amount</th>\n",
              "    </tr>\n",
              "    <tr>\n",
              "      <th>gender</th>\n",
              "      <th>F</th>\n",
              "      <th>M</th>\n",
              "    </tr>\n",
              "    <tr>\n",
              "      <th>policy_type</th>\n",
              "      <th></th>\n",
              "      <th></th>\n",
              "    </tr>\n",
              "  </thead>\n",
              "  <tbody>\n",
              "    <tr>\n",
              "      <th>Corporate Auto</th>\n",
              "      <td>397.80</td>\n",
              "      <td>462.22</td>\n",
              "    </tr>\n",
              "    <tr>\n",
              "      <th>Personal Auto</th>\n",
              "      <td>413.24</td>\n",
              "      <td>459.92</td>\n",
              "    </tr>\n",
              "    <tr>\n",
              "      <th>Special Auto</th>\n",
              "      <td>458.14</td>\n",
              "      <td>420.36</td>\n",
              "    </tr>\n",
              "  </tbody>\n",
              "</table>\n",
              "</div>"
            ],
            "text/plain": [
              "               total_claim_amount        \n",
              "gender                          F       M\n",
              "policy_type                              \n",
              "Corporate Auto             397.80  462.22\n",
              "Personal Auto              413.24  459.92\n",
              "Special Auto               458.14  420.36"
            ]
          },
          "execution_count": 12,
          "metadata": {},
          "output_type": "execute_result"
        }
      ],
      "source": [
        "total_claim_pivot_df = df.pivot_table(\n",
        "    index='policy_type',\n",
        "    columns='gender',\n",
        "    values=['total_claim_amount'],\n",
        "    aggfunc='mean'\n",
        ").round(2)\n",
        "total_claim_pivot_df"
      ]
    },
    {
      "cell_type": "markdown",
      "id": "e09ad78e",
      "metadata": {},
      "source": [
        "Most profitable segments are:\n",
        "- **Corporate auto in males** have a similar monthly premium auto to the rest of the policies and have the lowest total claim amount.\n",
        "- **Special auto in males** have the second lowest values in terms of claim amount and have one of the highest monthly premium auto."
      ]
    },
    {
      "cell_type": "markdown",
      "id": "7050f4ac-53c5-4193-a3c0-8699b87196f0",
      "metadata": {
        "id": "7050f4ac-53c5-4193-a3c0-8699b87196f0"
      },
      "source": [
        "3. Analyze the total number of customers who have policies in each state, and then filter the results to only include states where there are more than 500 customers."
      ]
    },
    {
      "cell_type": "code",
      "execution_count": 13,
      "id": "c465efc1",
      "metadata": {},
      "outputs": [],
      "source": [
        "# Checking for missing values in 'state' column\n",
        "df['state'].isna().sum()\n",
        "\n",
        "# Filling NaN values in 'state' column with 'Unknown'\n",
        "df['state'] = df['state'].fillna('Unknown')"
      ]
    },
    {
      "cell_type": "code",
      "execution_count": 14,
      "id": "64db6127",
      "metadata": {},
      "outputs": [],
      "source": [
        "#Checking for duplicated values in 'customer' column\n",
        "df['customer'].duplicated().sum()\n",
        "\n",
        "# Removing leading and trailing spaces from 'customer' column and dropping duplicates\n",
        "df['customer'] = df['customer'].str.strip().drop_duplicates()"
      ]
    },
    {
      "cell_type": "code",
      "execution_count": 15,
      "id": "35dee6e1",
      "metadata": {},
      "outputs": [
        {
          "data": {
            "application/vnd.microsoft.datawrangler.viewer.v0+json": {
              "columns": [
                {
                  "name": "index",
                  "rawType": "int64",
                  "type": "integer"
                },
                {
                  "name": "state",
                  "rawType": "object",
                  "type": "string"
                },
                {
                  "name": "customer_count",
                  "rawType": "int64",
                  "type": "integer"
                }
              ],
              "ref": "87d1ec91-7d93-4e23-8e93-09ea34e8ff29",
              "rows": [
                [
                  "0",
                  "California",
                  "3552"
                ],
                [
                  "1",
                  "Oregon",
                  "2909"
                ],
                [
                  "2",
                  "Arizona",
                  "1937"
                ],
                [
                  "3",
                  "Nevada",
                  "993"
                ],
                [
                  "4",
                  "Washington",
                  "888"
                ],
                [
                  "5",
                  "Unknown",
                  "631"
                ]
              ],
              "shape": {
                "columns": 2,
                "rows": 6
              }
            },
            "text/html": [
              "<div>\n",
              "<style scoped>\n",
              "    .dataframe tbody tr th:only-of-type {\n",
              "        vertical-align: middle;\n",
              "    }\n",
              "\n",
              "    .dataframe tbody tr th {\n",
              "        vertical-align: top;\n",
              "    }\n",
              "\n",
              "    .dataframe thead th {\n",
              "        text-align: right;\n",
              "    }\n",
              "</style>\n",
              "<table border=\"1\" class=\"dataframe\">\n",
              "  <thead>\n",
              "    <tr style=\"text-align: right;\">\n",
              "      <th></th>\n",
              "      <th>state</th>\n",
              "      <th>customer_count</th>\n",
              "    </tr>\n",
              "  </thead>\n",
              "  <tbody>\n",
              "    <tr>\n",
              "      <th>0</th>\n",
              "      <td>California</td>\n",
              "      <td>3552</td>\n",
              "    </tr>\n",
              "    <tr>\n",
              "      <th>1</th>\n",
              "      <td>Oregon</td>\n",
              "      <td>2909</td>\n",
              "    </tr>\n",
              "    <tr>\n",
              "      <th>2</th>\n",
              "      <td>Arizona</td>\n",
              "      <td>1937</td>\n",
              "    </tr>\n",
              "    <tr>\n",
              "      <th>3</th>\n",
              "      <td>Nevada</td>\n",
              "      <td>993</td>\n",
              "    </tr>\n",
              "    <tr>\n",
              "      <th>4</th>\n",
              "      <td>Washington</td>\n",
              "      <td>888</td>\n",
              "    </tr>\n",
              "    <tr>\n",
              "      <th>5</th>\n",
              "      <td>Unknown</td>\n",
              "      <td>631</td>\n",
              "    </tr>\n",
              "  </tbody>\n",
              "</table>\n",
              "</div>"
            ],
            "text/plain": [
              "        state  customer_count\n",
              "0  California            3552\n",
              "1      Oregon            2909\n",
              "2     Arizona            1937\n",
              "3      Nevada             993\n",
              "4  Washington             888\n",
              "5     Unknown             631"
            ]
          },
          "execution_count": 15,
          "metadata": {},
          "output_type": "execute_result"
        }
      ],
      "source": [
        "#Counting total clients by state and filtering states with more than 500 customers\n",
        "customers_by_state = df['state'].value_counts().reset_index()\n",
        "customers_by_state.columns = ['state', 'customer_count']\n",
        "filtered_states = customers_by_state[customers_by_state['customer_count'] > 500]\n",
        "filtered_states\n"
      ]
    },
    {
      "cell_type": "markdown",
      "id": "b60a4443-a1a7-4bbf-b78e-9ccdf9895e0d",
      "metadata": {
        "id": "b60a4443-a1a7-4bbf-b78e-9ccdf9895e0d"
      },
      "source": [
        "4. Find the maximum, minimum, and median customer lifetime value by education level and gender. Write your conclusions."
      ]
    },
    {
      "cell_type": "code",
      "execution_count": 16,
      "id": "6e9c7113",
      "metadata": {},
      "outputs": [
        {
          "data": {
            "application/vnd.microsoft.datawrangler.viewer.v0+json": {
              "columns": [
                {
                  "name": "education",
                  "rawType": "object",
                  "type": "string"
                },
                {
                  "name": "count",
                  "rawType": "float64",
                  "type": "float"
                },
                {
                  "name": "mean",
                  "rawType": "float64",
                  "type": "float"
                },
                {
                  "name": "std",
                  "rawType": "float64",
                  "type": "float"
                },
                {
                  "name": "min",
                  "rawType": "float64",
                  "type": "float"
                },
                {
                  "name": "25%",
                  "rawType": "float64",
                  "type": "float"
                },
                {
                  "name": "50%",
                  "rawType": "float64",
                  "type": "float"
                },
                {
                  "name": "75%",
                  "rawType": "float64",
                  "type": "float"
                },
                {
                  "name": "max",
                  "rawType": "float64",
                  "type": "float"
                }
              ],
              "ref": "27018bbc-be27-4031-a13d-16e41e9ae2c8",
              "rows": [
                [
                  "Bachelor",
                  "3272.0",
                  "7792.27",
                  "6634.99",
                  "1898.01",
                  "3979.72",
                  "5579.38",
                  "8684.28",
                  "73225.96"
                ],
                [
                  "College",
                  "3204.0",
                  "7900.07",
                  "6698.26",
                  "1898.68",
                  "4002.61",
                  "5813.63",
                  "8999.43",
                  "61850.19"
                ],
                [
                  "Doctor",
                  "401.0",
                  "7372.03",
                  "6229.69",
                  "2267.6",
                  "3536.43",
                  "5423.14",
                  "8544.41",
                  "44856.11"
                ],
                [
                  "High School or Below",
                  "3146.0",
                  "8415.29",
                  "7351.03",
                  "1940.98",
                  "4168.92",
                  "6189.35",
                  "9192.36",
                  "83325.38"
                ],
                [
                  "Master",
                  "887.0",
                  "8162.52",
                  "6971.46",
                  "2272.31",
                  "4056.47",
                  "5680.47",
                  "9075.77",
                  "51016.07"
                ]
              ],
              "shape": {
                "columns": 8,
                "rows": 5
              }
            },
            "text/html": [
              "<div>\n",
              "<style scoped>\n",
              "    .dataframe tbody tr th:only-of-type {\n",
              "        vertical-align: middle;\n",
              "    }\n",
              "\n",
              "    .dataframe tbody tr th {\n",
              "        vertical-align: top;\n",
              "    }\n",
              "\n",
              "    .dataframe thead th {\n",
              "        text-align: right;\n",
              "    }\n",
              "</style>\n",
              "<table border=\"1\" class=\"dataframe\">\n",
              "  <thead>\n",
              "    <tr style=\"text-align: right;\">\n",
              "      <th></th>\n",
              "      <th>count</th>\n",
              "      <th>mean</th>\n",
              "      <th>std</th>\n",
              "      <th>min</th>\n",
              "      <th>25%</th>\n",
              "      <th>50%</th>\n",
              "      <th>75%</th>\n",
              "      <th>max</th>\n",
              "    </tr>\n",
              "    <tr>\n",
              "      <th>education</th>\n",
              "      <th></th>\n",
              "      <th></th>\n",
              "      <th></th>\n",
              "      <th></th>\n",
              "      <th></th>\n",
              "      <th></th>\n",
              "      <th></th>\n",
              "      <th></th>\n",
              "    </tr>\n",
              "  </thead>\n",
              "  <tbody>\n",
              "    <tr>\n",
              "      <th>Bachelor</th>\n",
              "      <td>3272.0</td>\n",
              "      <td>7792.27</td>\n",
              "      <td>6634.99</td>\n",
              "      <td>1898.01</td>\n",
              "      <td>3979.72</td>\n",
              "      <td>5579.38</td>\n",
              "      <td>8684.28</td>\n",
              "      <td>73225.96</td>\n",
              "    </tr>\n",
              "    <tr>\n",
              "      <th>College</th>\n",
              "      <td>3204.0</td>\n",
              "      <td>7900.07</td>\n",
              "      <td>6698.26</td>\n",
              "      <td>1898.68</td>\n",
              "      <td>4002.61</td>\n",
              "      <td>5813.63</td>\n",
              "      <td>8999.43</td>\n",
              "      <td>61850.19</td>\n",
              "    </tr>\n",
              "    <tr>\n",
              "      <th>Doctor</th>\n",
              "      <td>401.0</td>\n",
              "      <td>7372.03</td>\n",
              "      <td>6229.69</td>\n",
              "      <td>2267.60</td>\n",
              "      <td>3536.43</td>\n",
              "      <td>5423.14</td>\n",
              "      <td>8544.41</td>\n",
              "      <td>44856.11</td>\n",
              "    </tr>\n",
              "    <tr>\n",
              "      <th>High School or Below</th>\n",
              "      <td>3146.0</td>\n",
              "      <td>8415.29</td>\n",
              "      <td>7351.03</td>\n",
              "      <td>1940.98</td>\n",
              "      <td>4168.92</td>\n",
              "      <td>6189.35</td>\n",
              "      <td>9192.36</td>\n",
              "      <td>83325.38</td>\n",
              "    </tr>\n",
              "    <tr>\n",
              "      <th>Master</th>\n",
              "      <td>887.0</td>\n",
              "      <td>8162.52</td>\n",
              "      <td>6971.46</td>\n",
              "      <td>2272.31</td>\n",
              "      <td>4056.47</td>\n",
              "      <td>5680.47</td>\n",
              "      <td>9075.77</td>\n",
              "      <td>51016.07</td>\n",
              "    </tr>\n",
              "  </tbody>\n",
              "</table>\n",
              "</div>"
            ],
            "text/plain": [
              "                       count     mean      std      min      25%      50%  \\\n",
              "education                                                                   \n",
              "Bachelor              3272.0  7792.27  6634.99  1898.01  3979.72  5579.38   \n",
              "College               3204.0  7900.07  6698.26  1898.68  4002.61  5813.63   \n",
              "Doctor                 401.0  7372.03  6229.69  2267.60  3536.43  5423.14   \n",
              "High School or Below  3146.0  8415.29  7351.03  1940.98  4168.92  6189.35   \n",
              "Master                 887.0  8162.52  6971.46  2272.31  4056.47  5680.47   \n",
              "\n",
              "                          75%       max  \n",
              "education                                \n",
              "Bachelor              8684.28  73225.96  \n",
              "College               8999.43  61850.19  \n",
              "Doctor                8544.41  44856.11  \n",
              "High School or Below  9192.36  83325.38  \n",
              "Master                9075.77  51016.07  "
            ]
          },
          "execution_count": 16,
          "metadata": {},
          "output_type": "execute_result"
        }
      ],
      "source": [
        "education_clv_grouped = df.groupby('education')['customer_lifetime_value'].describe().round(2)\n",
        "education_clv_grouped"
      ]
    },
    {
      "cell_type": "code",
      "execution_count": 17,
      "id": "a35eaa63",
      "metadata": {},
      "outputs": [
        {
          "data": {
            "application/vnd.microsoft.datawrangler.viewer.v0+json": {
              "columns": [
                {
                  "name": "education",
                  "rawType": "object",
                  "type": "string"
                },
                {
                  "name": "customer_lifetime_value",
                  "rawType": "float64",
                  "type": "float"
                }
              ],
              "ref": "4b2c14a2-cd91-45d2-92ae-e1500d727f4a",
              "rows": [
                [
                  "Bachelor",
                  "5579.38"
                ],
                [
                  "College",
                  "5813.63"
                ],
                [
                  "Doctor",
                  "5423.14"
                ],
                [
                  "High School or Below",
                  "6189.35"
                ],
                [
                  "Master",
                  "5680.47"
                ]
              ],
              "shape": {
                "columns": 1,
                "rows": 5
              }
            },
            "text/plain": [
              "education\n",
              "Bachelor                5579.38\n",
              "College                 5813.63\n",
              "Doctor                  5423.14\n",
              "High School or Below    6189.35\n",
              "Master                  5680.47\n",
              "Name: customer_lifetime_value, dtype: float64"
            ]
          },
          "execution_count": 17,
          "metadata": {},
          "output_type": "execute_result"
        }
      ],
      "source": [
        "education_clv_median = df.groupby('education')['customer_lifetime_value'].median().round(2)\n",
        "education_clv_median"
      ]
    },
    {
      "cell_type": "markdown",
      "id": "827b536c",
      "metadata": {},
      "source": [
        "**Bachelor** and **High School or Below** have the most widespread CLV distributions as they have more outliers. However, comparing the median **Bachelor** has not that high CLV values and **High School or Below** have significantly higher values than the rest of the categories."
      ]
    },
    {
      "cell_type": "code",
      "execution_count": 18,
      "id": "9494cada",
      "metadata": {},
      "outputs": [
        {
          "data": {
            "application/vnd.microsoft.datawrangler.viewer.v0+json": {
              "columns": [
                {
                  "name": "gender",
                  "rawType": "object",
                  "type": "string"
                },
                {
                  "name": "count",
                  "rawType": "float64",
                  "type": "float"
                },
                {
                  "name": "mean",
                  "rawType": "float64",
                  "type": "float"
                },
                {
                  "name": "std",
                  "rawType": "float64",
                  "type": "float"
                },
                {
                  "name": "min",
                  "rawType": "float64",
                  "type": "float"
                },
                {
                  "name": "25%",
                  "rawType": "float64",
                  "type": "float"
                },
                {
                  "name": "50%",
                  "rawType": "float64",
                  "type": "float"
                },
                {
                  "name": "75%",
                  "rawType": "float64",
                  "type": "float"
                },
                {
                  "name": "max",
                  "rawType": "float64",
                  "type": "float"
                }
              ],
              "ref": "14e830d3-6c4f-416f-bba8-80a8b726cb2e",
              "rows": [
                [
                  "F",
                  "5573.0",
                  "8071.11",
                  "6917.06",
                  "1898.68",
                  "4035.01",
                  "5714.17",
                  "9034.31",
                  "73225.96"
                ],
                [
                  "M",
                  "5337.0",
                  "7963.04",
                  "6851.74",
                  "1898.01",
                  "3982.27",
                  "5824.22",
                  "8929.61",
                  "83325.38"
                ]
              ],
              "shape": {
                "columns": 8,
                "rows": 2
              }
            },
            "text/html": [
              "<div>\n",
              "<style scoped>\n",
              "    .dataframe tbody tr th:only-of-type {\n",
              "        vertical-align: middle;\n",
              "    }\n",
              "\n",
              "    .dataframe tbody tr th {\n",
              "        vertical-align: top;\n",
              "    }\n",
              "\n",
              "    .dataframe thead th {\n",
              "        text-align: right;\n",
              "    }\n",
              "</style>\n",
              "<table border=\"1\" class=\"dataframe\">\n",
              "  <thead>\n",
              "    <tr style=\"text-align: right;\">\n",
              "      <th></th>\n",
              "      <th>count</th>\n",
              "      <th>mean</th>\n",
              "      <th>std</th>\n",
              "      <th>min</th>\n",
              "      <th>25%</th>\n",
              "      <th>50%</th>\n",
              "      <th>75%</th>\n",
              "      <th>max</th>\n",
              "    </tr>\n",
              "    <tr>\n",
              "      <th>gender</th>\n",
              "      <th></th>\n",
              "      <th></th>\n",
              "      <th></th>\n",
              "      <th></th>\n",
              "      <th></th>\n",
              "      <th></th>\n",
              "      <th></th>\n",
              "      <th></th>\n",
              "    </tr>\n",
              "  </thead>\n",
              "  <tbody>\n",
              "    <tr>\n",
              "      <th>F</th>\n",
              "      <td>5573.0</td>\n",
              "      <td>8071.11</td>\n",
              "      <td>6917.06</td>\n",
              "      <td>1898.68</td>\n",
              "      <td>4035.01</td>\n",
              "      <td>5714.17</td>\n",
              "      <td>9034.31</td>\n",
              "      <td>73225.96</td>\n",
              "    </tr>\n",
              "    <tr>\n",
              "      <th>M</th>\n",
              "      <td>5337.0</td>\n",
              "      <td>7963.04</td>\n",
              "      <td>6851.74</td>\n",
              "      <td>1898.01</td>\n",
              "      <td>3982.27</td>\n",
              "      <td>5824.22</td>\n",
              "      <td>8929.61</td>\n",
              "      <td>83325.38</td>\n",
              "    </tr>\n",
              "  </tbody>\n",
              "</table>\n",
              "</div>"
            ],
            "text/plain": [
              "         count     mean      std      min      25%      50%      75%       max\n",
              "gender                                                                        \n",
              "F       5573.0  8071.11  6917.06  1898.68  4035.01  5714.17  9034.31  73225.96\n",
              "M       5337.0  7963.04  6851.74  1898.01  3982.27  5824.22  8929.61  83325.38"
            ]
          },
          "execution_count": 18,
          "metadata": {},
          "output_type": "execute_result"
        }
      ],
      "source": [
        "gender_clv_grouped = df.groupby('gender')['customer_lifetime_value'].describe().round(2)\n",
        "gender_clv_grouped"
      ]
    },
    {
      "cell_type": "code",
      "execution_count": 19,
      "id": "9c125a43",
      "metadata": {},
      "outputs": [
        {
          "data": {
            "application/vnd.microsoft.datawrangler.viewer.v0+json": {
              "columns": [
                {
                  "name": "gender",
                  "rawType": "object",
                  "type": "string"
                },
                {
                  "name": "customer_lifetime_value",
                  "rawType": "float64",
                  "type": "float"
                }
              ],
              "ref": "89a37ddd-47aa-4ac8-99ed-180ce80bb233",
              "rows": [
                [
                  "F",
                  "5714.17"
                ],
                [
                  "M",
                  "5824.22"
                ]
              ],
              "shape": {
                "columns": 1,
                "rows": 2
              }
            },
            "text/plain": [
              "gender\n",
              "F    5714.17\n",
              "M    5824.22\n",
              "Name: customer_lifetime_value, dtype: float64"
            ]
          },
          "execution_count": 19,
          "metadata": {},
          "output_type": "execute_result"
        }
      ],
      "source": [
        "gender_clv_grouped = df.groupby('gender')['customer_lifetime_value'].median().round(2)\n",
        "gender_clv_grouped"
      ]
    },
    {
      "cell_type": "markdown",
      "id": "dc91ad6b",
      "metadata": {},
      "source": [
        "Despite **males** have higher CLV values, they are almost similar to **females** comparing median values."
      ]
    },
    {
      "cell_type": "markdown",
      "id": "b42999f9-311f-481e-ae63-40a5577072c5",
      "metadata": {
        "id": "b42999f9-311f-481e-ae63-40a5577072c5"
      },
      "source": [
        "## Bonus"
      ]
    },
    {
      "cell_type": "markdown",
      "id": "81ff02c5-6584-4f21-a358-b918697c6432",
      "metadata": {
        "id": "81ff02c5-6584-4f21-a358-b918697c6432"
      },
      "source": [
        "5. The marketing team wants to analyze the number of policies sold by state and month. Present the data in a table where the months are arranged as columns and the states are arranged as rows."
      ]
    },
    {
      "cell_type": "code",
      "execution_count": 20,
      "id": "f8688a86",
      "metadata": {},
      "outputs": [
        {
          "name": "stderr",
          "output_type": "stream",
          "text": [
            "C:\\Users\\gcast\\AppData\\Local\\Temp\\ipykernel_11580\\3581858043.py:2: UserWarning: Could not infer format, so each element will be parsed individually, falling back to `dateutil`. To ensure parsing is consistent and as-expected, please specify a format.\n",
            "  df['month_sold'] = pd.to_datetime(df['effective_to_date']).dt.month.astype('string')\n"
          ]
        },
        {
          "data": {
            "application/vnd.microsoft.datawrangler.viewer.v0+json": {
              "columns": [
                {
                  "name": "state",
                  "rawType": "object",
                  "type": "string"
                },
                {
                  "name": "February",
                  "rawType": "int64",
                  "type": "integer"
                },
                {
                  "name": "January",
                  "rawType": "int64",
                  "type": "integer"
                }
              ],
              "ref": "02ba558e-94d5-4fac-8587-3213187c3c9f",
              "rows": [
                [
                  "Arizona",
                  "777",
                  "878"
                ],
                [
                  "California",
                  "1401",
                  "1634"
                ],
                [
                  "Nevada",
                  "377",
                  "486"
                ],
                [
                  "Oregon",
                  "1163",
                  "1354"
                ],
                [
                  "Unknown",
                  "147",
                  "143"
                ],
                [
                  "Washington",
                  "371",
                  "403"
                ]
              ],
              "shape": {
                "columns": 2,
                "rows": 6
              }
            },
            "text/html": [
              "<div>\n",
              "<style scoped>\n",
              "    .dataframe tbody tr th:only-of-type {\n",
              "        vertical-align: middle;\n",
              "    }\n",
              "\n",
              "    .dataframe tbody tr th {\n",
              "        vertical-align: top;\n",
              "    }\n",
              "\n",
              "    .dataframe thead th {\n",
              "        text-align: right;\n",
              "    }\n",
              "</style>\n",
              "<table border=\"1\" class=\"dataframe\">\n",
              "  <thead>\n",
              "    <tr style=\"text-align: right;\">\n",
              "      <th>month_sold</th>\n",
              "      <th>February</th>\n",
              "      <th>January</th>\n",
              "    </tr>\n",
              "    <tr>\n",
              "      <th>state</th>\n",
              "      <th></th>\n",
              "      <th></th>\n",
              "    </tr>\n",
              "  </thead>\n",
              "  <tbody>\n",
              "    <tr>\n",
              "      <th>Arizona</th>\n",
              "      <td>777</td>\n",
              "      <td>878</td>\n",
              "    </tr>\n",
              "    <tr>\n",
              "      <th>California</th>\n",
              "      <td>1401</td>\n",
              "      <td>1634</td>\n",
              "    </tr>\n",
              "    <tr>\n",
              "      <th>Nevada</th>\n",
              "      <td>377</td>\n",
              "      <td>486</td>\n",
              "    </tr>\n",
              "    <tr>\n",
              "      <th>Oregon</th>\n",
              "      <td>1163</td>\n",
              "      <td>1354</td>\n",
              "    </tr>\n",
              "    <tr>\n",
              "      <th>Unknown</th>\n",
              "      <td>147</td>\n",
              "      <td>143</td>\n",
              "    </tr>\n",
              "    <tr>\n",
              "      <th>Washington</th>\n",
              "      <td>371</td>\n",
              "      <td>403</td>\n",
              "    </tr>\n",
              "  </tbody>\n",
              "</table>\n",
              "</div>"
            ],
            "text/plain": [
              "month_sold  February  January\n",
              "state                        \n",
              "Arizona          777      878\n",
              "California      1401     1634\n",
              "Nevada           377      486\n",
              "Oregon          1163     1354\n",
              "Unknown          147      143\n",
              "Washington       371      403"
            ]
          },
          "execution_count": 20,
          "metadata": {},
          "output_type": "execute_result"
        }
      ],
      "source": [
        "# Converting 'effective_to_date' column to datetime, extracting month into a new column 'month_sold' and converting it to int64\n",
        "df['month_sold'] = pd.to_datetime(df['effective_to_date']).dt.month.astype('string')\n",
        "\n",
        "# Mapping month numbers to names\n",
        "df['month_sold'] = df['month_sold'].str.replace('1', 'January').str.replace('2', 'February')\n",
        "\n",
        "policies_month_state = df.pivot_table(\n",
        "    index='state',\n",
        "    columns='month_sold',\n",
        "    values='customer',\n",
        "    aggfunc='count'\n",
        ")\n",
        "policies_month_state"
      ]
    },
    {
      "cell_type": "markdown",
      "id": "b6aec097-c633-4017-a125-e77a97259cda",
      "metadata": {
        "id": "b6aec097-c633-4017-a125-e77a97259cda"
      },
      "source": [
        "6.  Display a new DataFrame that contains the number of policies sold by month, by state, for the top 3 states with the highest number of policies sold.\n",
        "\n",
        "*Hint:*\n",
        "- *To accomplish this, you will first need to group the data by state and month, then count the number of policies sold for each group. Afterwards, you will need to sort the data by the count of policies sold in descending order.*\n",
        "- *Next, you will select the top 3 states with the highest number of policies sold.*\n",
        "- *Finally, you will create a new DataFrame that contains the number of policies sold by month for each of the top 3 states.*"
      ]
    },
    {
      "cell_type": "code",
      "execution_count": 25,
      "id": "cde8869e",
      "metadata": {},
      "outputs": [
        {
          "data": {
            "application/vnd.microsoft.datawrangler.viewer.v0+json": {
              "columns": [
                {
                  "name": "index",
                  "rawType": "int64",
                  "type": "integer"
                },
                {
                  "name": "state",
                  "rawType": "object",
                  "type": "string"
                },
                {
                  "name": "month_sold",
                  "rawType": "string",
                  "type": "string"
                },
                {
                  "name": "policies_sold",
                  "rawType": "int64",
                  "type": "integer"
                }
              ],
              "ref": "1f61806c-9644-463d-96ed-f1cc3ac56ddb",
              "rows": [
                [
                  "0",
                  "Arizona",
                  "February",
                  "929"
                ],
                [
                  "1",
                  "Arizona",
                  "January",
                  "1008"
                ],
                [
                  "2",
                  "California",
                  "February",
                  "1634"
                ],
                [
                  "3",
                  "California",
                  "January",
                  "1918"
                ],
                [
                  "4",
                  "Nevada",
                  "February",
                  "442"
                ],
                [
                  "5",
                  "Nevada",
                  "January",
                  "551"
                ],
                [
                  "6",
                  "Oregon",
                  "February",
                  "1344"
                ],
                [
                  "7",
                  "Oregon",
                  "January",
                  "1565"
                ],
                [
                  "8",
                  "Unknown",
                  "February",
                  "318"
                ],
                [
                  "9",
                  "Unknown",
                  "January",
                  "313"
                ],
                [
                  "10",
                  "Washington",
                  "February",
                  "425"
                ],
                [
                  "11",
                  "Washington",
                  "January",
                  "463"
                ]
              ],
              "shape": {
                "columns": 3,
                "rows": 12
              }
            },
            "text/html": [
              "<div>\n",
              "<style scoped>\n",
              "    .dataframe tbody tr th:only-of-type {\n",
              "        vertical-align: middle;\n",
              "    }\n",
              "\n",
              "    .dataframe tbody tr th {\n",
              "        vertical-align: top;\n",
              "    }\n",
              "\n",
              "    .dataframe thead th {\n",
              "        text-align: right;\n",
              "    }\n",
              "</style>\n",
              "<table border=\"1\" class=\"dataframe\">\n",
              "  <thead>\n",
              "    <tr style=\"text-align: right;\">\n",
              "      <th></th>\n",
              "      <th>state</th>\n",
              "      <th>month_sold</th>\n",
              "      <th>policies_sold</th>\n",
              "    </tr>\n",
              "  </thead>\n",
              "  <tbody>\n",
              "    <tr>\n",
              "      <th>0</th>\n",
              "      <td>Arizona</td>\n",
              "      <td>February</td>\n",
              "      <td>929</td>\n",
              "    </tr>\n",
              "    <tr>\n",
              "      <th>1</th>\n",
              "      <td>Arizona</td>\n",
              "      <td>January</td>\n",
              "      <td>1008</td>\n",
              "    </tr>\n",
              "    <tr>\n",
              "      <th>2</th>\n",
              "      <td>California</td>\n",
              "      <td>February</td>\n",
              "      <td>1634</td>\n",
              "    </tr>\n",
              "    <tr>\n",
              "      <th>3</th>\n",
              "      <td>California</td>\n",
              "      <td>January</td>\n",
              "      <td>1918</td>\n",
              "    </tr>\n",
              "    <tr>\n",
              "      <th>4</th>\n",
              "      <td>Nevada</td>\n",
              "      <td>February</td>\n",
              "      <td>442</td>\n",
              "    </tr>\n",
              "    <tr>\n",
              "      <th>5</th>\n",
              "      <td>Nevada</td>\n",
              "      <td>January</td>\n",
              "      <td>551</td>\n",
              "    </tr>\n",
              "    <tr>\n",
              "      <th>6</th>\n",
              "      <td>Oregon</td>\n",
              "      <td>February</td>\n",
              "      <td>1344</td>\n",
              "    </tr>\n",
              "    <tr>\n",
              "      <th>7</th>\n",
              "      <td>Oregon</td>\n",
              "      <td>January</td>\n",
              "      <td>1565</td>\n",
              "    </tr>\n",
              "    <tr>\n",
              "      <th>8</th>\n",
              "      <td>Unknown</td>\n",
              "      <td>February</td>\n",
              "      <td>318</td>\n",
              "    </tr>\n",
              "    <tr>\n",
              "      <th>9</th>\n",
              "      <td>Unknown</td>\n",
              "      <td>January</td>\n",
              "      <td>313</td>\n",
              "    </tr>\n",
              "    <tr>\n",
              "      <th>10</th>\n",
              "      <td>Washington</td>\n",
              "      <td>February</td>\n",
              "      <td>425</td>\n",
              "    </tr>\n",
              "    <tr>\n",
              "      <th>11</th>\n",
              "      <td>Washington</td>\n",
              "      <td>January</td>\n",
              "      <td>463</td>\n",
              "    </tr>\n",
              "  </tbody>\n",
              "</table>\n",
              "</div>"
            ],
            "text/plain": [
              "         state month_sold  policies_sold\n",
              "0      Arizona   February            929\n",
              "1      Arizona    January           1008\n",
              "2   California   February           1634\n",
              "3   California    January           1918\n",
              "4       Nevada   February            442\n",
              "5       Nevada    January            551\n",
              "6       Oregon   February           1344\n",
              "7       Oregon    January           1565\n",
              "8      Unknown   February            318\n",
              "9      Unknown    January            313\n",
              "10  Washington   February            425\n",
              "11  Washington    January            463"
            ]
          },
          "execution_count": 25,
          "metadata": {},
          "output_type": "execute_result"
        }
      ],
      "source": [
        "policies_by_state_month = (\n",
        "    df.groupby(['state', 'month_sold'])\n",
        "      .size()\n",
        "      .reset_index(name='policies_sold')\n",
        ")\n",
        "\n",
        "policies_by_state_month"
      ]
    },
    {
      "cell_type": "code",
      "execution_count": 31,
      "id": "d14a8285",
      "metadata": {},
      "outputs": [
        {
          "data": {
            "application/vnd.microsoft.datawrangler.viewer.v0+json": {
              "columns": [
                {
                  "name": "index",
                  "rawType": "int64",
                  "type": "integer"
                },
                {
                  "name": "state",
                  "rawType": "object",
                  "type": "string"
                },
                {
                  "name": "policies_sold",
                  "rawType": "int64",
                  "type": "integer"
                }
              ],
              "ref": "4197abad-e8ee-4268-9dbc-bc5f3f1d98dd",
              "rows": [
                [
                  "1",
                  "California",
                  "3552"
                ],
                [
                  "3",
                  "Oregon",
                  "2909"
                ],
                [
                  "0",
                  "Arizona",
                  "1937"
                ],
                [
                  "2",
                  "Nevada",
                  "993"
                ],
                [
                  "5",
                  "Washington",
                  "888"
                ],
                [
                  "4",
                  "Unknown",
                  "631"
                ]
              ],
              "shape": {
                "columns": 2,
                "rows": 6
              }
            },
            "text/html": [
              "<div>\n",
              "<style scoped>\n",
              "    .dataframe tbody tr th:only-of-type {\n",
              "        vertical-align: middle;\n",
              "    }\n",
              "\n",
              "    .dataframe tbody tr th {\n",
              "        vertical-align: top;\n",
              "    }\n",
              "\n",
              "    .dataframe thead th {\n",
              "        text-align: right;\n",
              "    }\n",
              "</style>\n",
              "<table border=\"1\" class=\"dataframe\">\n",
              "  <thead>\n",
              "    <tr style=\"text-align: right;\">\n",
              "      <th></th>\n",
              "      <th>state</th>\n",
              "      <th>policies_sold</th>\n",
              "    </tr>\n",
              "  </thead>\n",
              "  <tbody>\n",
              "    <tr>\n",
              "      <th>1</th>\n",
              "      <td>California</td>\n",
              "      <td>3552</td>\n",
              "    </tr>\n",
              "    <tr>\n",
              "      <th>3</th>\n",
              "      <td>Oregon</td>\n",
              "      <td>2909</td>\n",
              "    </tr>\n",
              "    <tr>\n",
              "      <th>0</th>\n",
              "      <td>Arizona</td>\n",
              "      <td>1937</td>\n",
              "    </tr>\n",
              "    <tr>\n",
              "      <th>2</th>\n",
              "      <td>Nevada</td>\n",
              "      <td>993</td>\n",
              "    </tr>\n",
              "    <tr>\n",
              "      <th>5</th>\n",
              "      <td>Washington</td>\n",
              "      <td>888</td>\n",
              "    </tr>\n",
              "    <tr>\n",
              "      <th>4</th>\n",
              "      <td>Unknown</td>\n",
              "      <td>631</td>\n",
              "    </tr>\n",
              "  </tbody>\n",
              "</table>\n",
              "</div>"
            ],
            "text/plain": [
              "        state  policies_sold\n",
              "1  California           3552\n",
              "3      Oregon           2909\n",
              "0     Arizona           1937\n",
              "2      Nevada            993\n",
              "5  Washington            888\n",
              "4     Unknown            631"
            ]
          },
          "execution_count": 31,
          "metadata": {},
          "output_type": "execute_result"
        }
      ],
      "source": [
        "total_policies_by_state = (\n",
        "    policies_by_state_month.groupby('state')['policies_sold']\n",
        "    .sum()\n",
        "    .reset_index()\n",
        "    .sort_values('policies_sold', ascending=False)\n",
        ")\n",
        "total_policies_by_state"
      ]
    },
    {
      "cell_type": "code",
      "execution_count": 32,
      "id": "1242c5df",
      "metadata": {},
      "outputs": [],
      "source": [
        "top_3_states = policies_by_state_month.head(3)['state']"
      ]
    },
    {
      "cell_type": "code",
      "execution_count": 33,
      "id": "75ba485c",
      "metadata": {},
      "outputs": [
        {
          "data": {
            "application/vnd.microsoft.datawrangler.viewer.v0+json": {
              "columns": [
                {
                  "name": "index",
                  "rawType": "int64",
                  "type": "integer"
                },
                {
                  "name": "state",
                  "rawType": "object",
                  "type": "string"
                },
                {
                  "name": "month_sold",
                  "rawType": "string",
                  "type": "string"
                },
                {
                  "name": "policies_sold",
                  "rawType": "int64",
                  "type": "integer"
                }
              ],
              "ref": "f9833a9a-7b48-440d-b8b3-1b49a4030f64",
              "rows": [
                [
                  "0",
                  "Arizona",
                  "February",
                  "929"
                ],
                [
                  "1",
                  "Arizona",
                  "January",
                  "1008"
                ],
                [
                  "2",
                  "California",
                  "February",
                  "1634"
                ],
                [
                  "3",
                  "California",
                  "January",
                  "1918"
                ]
              ],
              "shape": {
                "columns": 3,
                "rows": 4
              }
            },
            "text/html": [
              "<div>\n",
              "<style scoped>\n",
              "    .dataframe tbody tr th:only-of-type {\n",
              "        vertical-align: middle;\n",
              "    }\n",
              "\n",
              "    .dataframe tbody tr th {\n",
              "        vertical-align: top;\n",
              "    }\n",
              "\n",
              "    .dataframe thead th {\n",
              "        text-align: right;\n",
              "    }\n",
              "</style>\n",
              "<table border=\"1\" class=\"dataframe\">\n",
              "  <thead>\n",
              "    <tr style=\"text-align: right;\">\n",
              "      <th></th>\n",
              "      <th>state</th>\n",
              "      <th>month_sold</th>\n",
              "      <th>policies_sold</th>\n",
              "    </tr>\n",
              "  </thead>\n",
              "  <tbody>\n",
              "    <tr>\n",
              "      <th>0</th>\n",
              "      <td>Arizona</td>\n",
              "      <td>February</td>\n",
              "      <td>929</td>\n",
              "    </tr>\n",
              "    <tr>\n",
              "      <th>1</th>\n",
              "      <td>Arizona</td>\n",
              "      <td>January</td>\n",
              "      <td>1008</td>\n",
              "    </tr>\n",
              "    <tr>\n",
              "      <th>2</th>\n",
              "      <td>California</td>\n",
              "      <td>February</td>\n",
              "      <td>1634</td>\n",
              "    </tr>\n",
              "    <tr>\n",
              "      <th>3</th>\n",
              "      <td>California</td>\n",
              "      <td>January</td>\n",
              "      <td>1918</td>\n",
              "    </tr>\n",
              "  </tbody>\n",
              "</table>\n",
              "</div>"
            ],
            "text/plain": [
              "        state month_sold  policies_sold\n",
              "0     Arizona   February            929\n",
              "1     Arizona    January           1008\n",
              "2  California   February           1634\n",
              "3  California    January           1918"
            ]
          },
          "execution_count": 33,
          "metadata": {},
          "output_type": "execute_result"
        }
      ],
      "source": [
        "top_states_df = policies_by_state_month[policies_by_state_month['state'].isin(top_3_states)]\n",
        "top_states_df"
      ]
    },
    {
      "cell_type": "markdown",
      "id": "ba975b8a-a2cf-4fbf-9f59-ebc381767009",
      "metadata": {
        "id": "ba975b8a-a2cf-4fbf-9f59-ebc381767009"
      },
      "source": [
        "7. The marketing team wants to analyze the effect of different marketing channels on the customer response rate.\n",
        "\n",
        "Hint: You can use melt to unpivot the data and create a table that shows the customer response rate (those who responded \"Yes\") by marketing channel."
      ]
    },
    {
      "cell_type": "markdown",
      "id": "e4378d94-48fb-4850-a802-b1bc8f427b2d",
      "metadata": {
        "id": "e4378d94-48fb-4850-a802-b1bc8f427b2d"
      },
      "source": [
        "External Resources for Data Filtering: https://towardsdatascience.com/filtering-data-frames-in-pandas-b570b1f834b9"
      ]
    },
    {
      "cell_type": "code",
      "execution_count": 34,
      "id": "449513f4-0459-46a0-a18d-9398d974c9ad",
      "metadata": {
        "id": "449513f4-0459-46a0-a18d-9398d974c9ad"
      },
      "outputs": [
        {
          "data": {
            "application/vnd.microsoft.datawrangler.viewer.v0+json": {
              "columns": [
                {
                  "name": "index",
                  "rawType": "int64",
                  "type": "integer"
                },
                {
                  "name": "unnamed:_0",
                  "rawType": "int64",
                  "type": "integer"
                },
                {
                  "name": "customer",
                  "rawType": "object",
                  "type": "string"
                },
                {
                  "name": "state",
                  "rawType": "object",
                  "type": "string"
                },
                {
                  "name": "customer_lifetime_value",
                  "rawType": "float64",
                  "type": "float"
                },
                {
                  "name": "response",
                  "rawType": "object",
                  "type": "string"
                },
                {
                  "name": "coverage",
                  "rawType": "object",
                  "type": "string"
                },
                {
                  "name": "education",
                  "rawType": "object",
                  "type": "string"
                },
                {
                  "name": "effective_to_date",
                  "rawType": "object",
                  "type": "string"
                },
                {
                  "name": "employmentstatus",
                  "rawType": "object",
                  "type": "string"
                },
                {
                  "name": "gender",
                  "rawType": "object",
                  "type": "string"
                },
                {
                  "name": "income",
                  "rawType": "int64",
                  "type": "integer"
                },
                {
                  "name": "location_code",
                  "rawType": "object",
                  "type": "string"
                },
                {
                  "name": "marital_status",
                  "rawType": "object",
                  "type": "string"
                },
                {
                  "name": "monthly_premium_auto",
                  "rawType": "int64",
                  "type": "integer"
                },
                {
                  "name": "months_since_last_claim",
                  "rawType": "float64",
                  "type": "float"
                },
                {
                  "name": "months_since_policy_inception",
                  "rawType": "int64",
                  "type": "integer"
                },
                {
                  "name": "number_of_open_complaints",
                  "rawType": "float64",
                  "type": "float"
                },
                {
                  "name": "number_of_policies",
                  "rawType": "int64",
                  "type": "integer"
                },
                {
                  "name": "policy_type",
                  "rawType": "object",
                  "type": "string"
                },
                {
                  "name": "policy",
                  "rawType": "object",
                  "type": "string"
                },
                {
                  "name": "renew_offer_type",
                  "rawType": "object",
                  "type": "string"
                },
                {
                  "name": "sales_channel",
                  "rawType": "object",
                  "type": "string"
                },
                {
                  "name": "total_claim_amount",
                  "rawType": "float64",
                  "type": "float"
                },
                {
                  "name": "vehicle_class",
                  "rawType": "object",
                  "type": "string"
                },
                {
                  "name": "vehicle_size",
                  "rawType": "object",
                  "type": "string"
                },
                {
                  "name": "vehicle_type",
                  "rawType": "object",
                  "type": "unknown"
                },
                {
                  "name": "month_sold",
                  "rawType": "string",
                  "type": "string"
                }
              ],
              "ref": "f68c3a7d-7f2c-40fa-9f19-0cba7ead7768",
              "rows": [
                [
                  "0",
                  "0",
                  "DK49336",
                  "Arizona",
                  "4809.21696",
                  "No",
                  "Basic",
                  "College",
                  "2/18/11",
                  "Employed",
                  "M",
                  "48029",
                  "Suburban",
                  "Married",
                  "61",
                  "7.0",
                  "52",
                  "0.0",
                  "9",
                  "Corporate Auto",
                  "Corporate L3",
                  "Offer3",
                  "Agent",
                  "292.8",
                  "Four-Door Car",
                  "Medsize",
                  null,
                  "February"
                ],
                [
                  "1",
                  "1",
                  "KX64629",
                  "California",
                  "2228.525238",
                  "No",
                  "Basic",
                  "College",
                  "1/18/11",
                  "Unemployed",
                  "F",
                  "0",
                  "Suburban",
                  "Single",
                  "64",
                  "3.0",
                  "26",
                  "0.0",
                  "1",
                  "Personal Auto",
                  "Personal L3",
                  "Offer4",
                  "Call Center",
                  "744.924331",
                  "Four-Door Car",
                  "Medsize",
                  null,
                  "January"
                ],
                [
                  "2",
                  "2",
                  "LZ68649",
                  "Washington",
                  "14947.9173",
                  "No",
                  "Basic",
                  "Bachelor",
                  "2/10/11",
                  "Employed",
                  "M",
                  "22139",
                  "Suburban",
                  "Single",
                  "100",
                  "34.0",
                  "31",
                  "0.0",
                  "2",
                  "Personal Auto",
                  "Personal L3",
                  "Offer3",
                  "Call Center",
                  "480.0",
                  "SUV",
                  "Medsize",
                  "A",
                  "February"
                ],
                [
                  "3",
                  "3",
                  "XL78013",
                  "Oregon",
                  "22332.43946",
                  "Yes",
                  "Extended",
                  "College",
                  "1/11/11",
                  "Employed",
                  "M",
                  "49078",
                  "Suburban",
                  "Single",
                  "97",
                  "10.0",
                  "3",
                  "0.0",
                  "2",
                  "Corporate Auto",
                  "Corporate L3",
                  "Offer2",
                  "Branch",
                  "484.013411",
                  "Four-Door Car",
                  "Medsize",
                  "A",
                  "January"
                ],
                [
                  "4",
                  "4",
                  "QA50777",
                  "Oregon",
                  "9025.067525",
                  "No",
                  "Premium",
                  "Bachelor",
                  "1/17/11",
                  "Medical Leave",
                  "F",
                  "23675",
                  "Suburban",
                  "Married",
                  "117",
                  null,
                  "31",
                  null,
                  "7",
                  "Personal Auto",
                  "Personal L2",
                  "Offer1",
                  "Branch",
                  "707.925645",
                  "Four-Door Car",
                  "Medsize",
                  null,
                  "January"
                ]
              ],
              "shape": {
                "columns": 27,
                "rows": 5
              }
            },
            "text/html": [
              "<div>\n",
              "<style scoped>\n",
              "    .dataframe tbody tr th:only-of-type {\n",
              "        vertical-align: middle;\n",
              "    }\n",
              "\n",
              "    .dataframe tbody tr th {\n",
              "        vertical-align: top;\n",
              "    }\n",
              "\n",
              "    .dataframe thead th {\n",
              "        text-align: right;\n",
              "    }\n",
              "</style>\n",
              "<table border=\"1\" class=\"dataframe\">\n",
              "  <thead>\n",
              "    <tr style=\"text-align: right;\">\n",
              "      <th></th>\n",
              "      <th>unnamed:_0</th>\n",
              "      <th>customer</th>\n",
              "      <th>state</th>\n",
              "      <th>customer_lifetime_value</th>\n",
              "      <th>response</th>\n",
              "      <th>coverage</th>\n",
              "      <th>education</th>\n",
              "      <th>effective_to_date</th>\n",
              "      <th>employmentstatus</th>\n",
              "      <th>gender</th>\n",
              "      <th>...</th>\n",
              "      <th>number_of_policies</th>\n",
              "      <th>policy_type</th>\n",
              "      <th>policy</th>\n",
              "      <th>renew_offer_type</th>\n",
              "      <th>sales_channel</th>\n",
              "      <th>total_claim_amount</th>\n",
              "      <th>vehicle_class</th>\n",
              "      <th>vehicle_size</th>\n",
              "      <th>vehicle_type</th>\n",
              "      <th>month_sold</th>\n",
              "    </tr>\n",
              "  </thead>\n",
              "  <tbody>\n",
              "    <tr>\n",
              "      <th>0</th>\n",
              "      <td>0</td>\n",
              "      <td>DK49336</td>\n",
              "      <td>Arizona</td>\n",
              "      <td>4809.216960</td>\n",
              "      <td>No</td>\n",
              "      <td>Basic</td>\n",
              "      <td>College</td>\n",
              "      <td>2/18/11</td>\n",
              "      <td>Employed</td>\n",
              "      <td>M</td>\n",
              "      <td>...</td>\n",
              "      <td>9</td>\n",
              "      <td>Corporate Auto</td>\n",
              "      <td>Corporate L3</td>\n",
              "      <td>Offer3</td>\n",
              "      <td>Agent</td>\n",
              "      <td>292.800000</td>\n",
              "      <td>Four-Door Car</td>\n",
              "      <td>Medsize</td>\n",
              "      <td>NaN</td>\n",
              "      <td>February</td>\n",
              "    </tr>\n",
              "    <tr>\n",
              "      <th>1</th>\n",
              "      <td>1</td>\n",
              "      <td>KX64629</td>\n",
              "      <td>California</td>\n",
              "      <td>2228.525238</td>\n",
              "      <td>No</td>\n",
              "      <td>Basic</td>\n",
              "      <td>College</td>\n",
              "      <td>1/18/11</td>\n",
              "      <td>Unemployed</td>\n",
              "      <td>F</td>\n",
              "      <td>...</td>\n",
              "      <td>1</td>\n",
              "      <td>Personal Auto</td>\n",
              "      <td>Personal L3</td>\n",
              "      <td>Offer4</td>\n",
              "      <td>Call Center</td>\n",
              "      <td>744.924331</td>\n",
              "      <td>Four-Door Car</td>\n",
              "      <td>Medsize</td>\n",
              "      <td>NaN</td>\n",
              "      <td>January</td>\n",
              "    </tr>\n",
              "    <tr>\n",
              "      <th>2</th>\n",
              "      <td>2</td>\n",
              "      <td>LZ68649</td>\n",
              "      <td>Washington</td>\n",
              "      <td>14947.917300</td>\n",
              "      <td>No</td>\n",
              "      <td>Basic</td>\n",
              "      <td>Bachelor</td>\n",
              "      <td>2/10/11</td>\n",
              "      <td>Employed</td>\n",
              "      <td>M</td>\n",
              "      <td>...</td>\n",
              "      <td>2</td>\n",
              "      <td>Personal Auto</td>\n",
              "      <td>Personal L3</td>\n",
              "      <td>Offer3</td>\n",
              "      <td>Call Center</td>\n",
              "      <td>480.000000</td>\n",
              "      <td>SUV</td>\n",
              "      <td>Medsize</td>\n",
              "      <td>A</td>\n",
              "      <td>February</td>\n",
              "    </tr>\n",
              "    <tr>\n",
              "      <th>3</th>\n",
              "      <td>3</td>\n",
              "      <td>XL78013</td>\n",
              "      <td>Oregon</td>\n",
              "      <td>22332.439460</td>\n",
              "      <td>Yes</td>\n",
              "      <td>Extended</td>\n",
              "      <td>College</td>\n",
              "      <td>1/11/11</td>\n",
              "      <td>Employed</td>\n",
              "      <td>M</td>\n",
              "      <td>...</td>\n",
              "      <td>2</td>\n",
              "      <td>Corporate Auto</td>\n",
              "      <td>Corporate L3</td>\n",
              "      <td>Offer2</td>\n",
              "      <td>Branch</td>\n",
              "      <td>484.013411</td>\n",
              "      <td>Four-Door Car</td>\n",
              "      <td>Medsize</td>\n",
              "      <td>A</td>\n",
              "      <td>January</td>\n",
              "    </tr>\n",
              "    <tr>\n",
              "      <th>4</th>\n",
              "      <td>4</td>\n",
              "      <td>QA50777</td>\n",
              "      <td>Oregon</td>\n",
              "      <td>9025.067525</td>\n",
              "      <td>No</td>\n",
              "      <td>Premium</td>\n",
              "      <td>Bachelor</td>\n",
              "      <td>1/17/11</td>\n",
              "      <td>Medical Leave</td>\n",
              "      <td>F</td>\n",
              "      <td>...</td>\n",
              "      <td>7</td>\n",
              "      <td>Personal Auto</td>\n",
              "      <td>Personal L2</td>\n",
              "      <td>Offer1</td>\n",
              "      <td>Branch</td>\n",
              "      <td>707.925645</td>\n",
              "      <td>Four-Door Car</td>\n",
              "      <td>Medsize</td>\n",
              "      <td>NaN</td>\n",
              "      <td>January</td>\n",
              "    </tr>\n",
              "  </tbody>\n",
              "</table>\n",
              "<p>5 rows × 27 columns</p>\n",
              "</div>"
            ],
            "text/plain": [
              "   unnamed:_0 customer       state  customer_lifetime_value response  \\\n",
              "0           0  DK49336     Arizona              4809.216960       No   \n",
              "1           1  KX64629  California              2228.525238       No   \n",
              "2           2  LZ68649  Washington             14947.917300       No   \n",
              "3           3  XL78013      Oregon             22332.439460      Yes   \n",
              "4           4  QA50777      Oregon              9025.067525       No   \n",
              "\n",
              "   coverage education effective_to_date employmentstatus gender  ...  \\\n",
              "0     Basic   College           2/18/11         Employed      M  ...   \n",
              "1     Basic   College           1/18/11       Unemployed      F  ...   \n",
              "2     Basic  Bachelor           2/10/11         Employed      M  ...   \n",
              "3  Extended   College           1/11/11         Employed      M  ...   \n",
              "4   Premium  Bachelor           1/17/11    Medical Leave      F  ...   \n",
              "\n",
              "   number_of_policies     policy_type        policy  renew_offer_type  \\\n",
              "0                   9  Corporate Auto  Corporate L3            Offer3   \n",
              "1                   1   Personal Auto   Personal L3            Offer4   \n",
              "2                   2   Personal Auto   Personal L3            Offer3   \n",
              "3                   2  Corporate Auto  Corporate L3            Offer2   \n",
              "4                   7   Personal Auto   Personal L2            Offer1   \n",
              "\n",
              "   sales_channel  total_claim_amount  vehicle_class  vehicle_size  \\\n",
              "0          Agent          292.800000  Four-Door Car       Medsize   \n",
              "1    Call Center          744.924331  Four-Door Car       Medsize   \n",
              "2    Call Center          480.000000            SUV       Medsize   \n",
              "3         Branch          484.013411  Four-Door Car       Medsize   \n",
              "4         Branch          707.925645  Four-Door Car       Medsize   \n",
              "\n",
              "  vehicle_type month_sold  \n",
              "0          NaN   February  \n",
              "1          NaN    January  \n",
              "2            A   February  \n",
              "3            A    January  \n",
              "4          NaN    January  \n",
              "\n",
              "[5 rows x 27 columns]"
            ]
          },
          "execution_count": 34,
          "metadata": {},
          "output_type": "execute_result"
        }
      ],
      "source": [
        "df.head()"
      ]
    },
    {
      "cell_type": "code",
      "execution_count": null,
      "id": "538a758b",
      "metadata": {},
      "outputs": [],
      "source": []
    }
  ],
  "metadata": {
    "colab": {
      "provenance": []
    },
    "kernelspec": {
      "display_name": "Python 3",
      "language": "python",
      "name": "python3"
    },
    "language_info": {
      "codemirror_mode": {
        "name": "ipython",
        "version": 3
      },
      "file_extension": ".py",
      "mimetype": "text/x-python",
      "name": "python",
      "nbconvert_exporter": "python",
      "pygments_lexer": "ipython3",
      "version": "3.12.9"
    }
  },
  "nbformat": 4,
  "nbformat_minor": 5
}
